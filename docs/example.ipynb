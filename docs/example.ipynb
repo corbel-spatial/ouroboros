{
 "cells": [
  {
   "cell_type": "code",
   "id": "initial_id",
   "metadata": {
    "collapsed": true,
    "ExecuteTime": {
     "end_time": "2025-03-23T00:50:29.598167Z",
     "start_time": "2025-03-23T00:50:29.585072Z"
    }
   },
   "source": [
    "# Open this notebook in ArcGIS Pro, then change the path below\n",
    "src = r'C:\\Users\\PATH_TO\\ouroboros'"
   ],
   "outputs": [],
   "execution_count": 33
  },
  {
   "metadata": {
    "ExecuteTime": {
     "end_time": "2025-03-23T00:50:30.236703Z",
     "start_time": "2025-03-23T00:50:30.225679Z"
    }
   },
   "cell_type": "code",
   "source": [
    "import os\n",
    "import sys\n",
    "from pprint import pprint\n",
    "\n",
    "sys.path.append(os.path.join(src, 'src'))\n",
    "from ouroboros import ouroboros as ob  # noqa"
   ],
   "id": "85eaba7293ac11fd",
   "outputs": [],
   "execution_count": 34
  },
  {
   "metadata": {
    "ExecuteTime": {
     "end_time": "2025-03-23T00:50:31.081673Z",
     "start_time": "2025-03-23T00:50:30.924082Z"
    }
   },
   "cell_type": "code",
   "source": "test_points = ob.FeatureClass(os.path.join(src, r'tests\\test_data.gdb\\test_points'))",
   "id": "e8c541bacbf08d44",
   "outputs": [],
   "execution_count": 35
  },
  {
   "metadata": {
    "ExecuteTime": {
     "end_time": "2025-03-23T00:50:31.744160Z",
     "start_time": "2025-03-23T00:50:31.652188Z"
    }
   },
   "cell_type": "code",
   "source": "pprint(test_points.__dict__())",
   "id": "45ab152bc736e9bc",
   "outputs": [
    {
     "name": "stdout",
     "output_type": "stream",
     "text": [
      "{'DSID': 4,\n",
      " 'MExtent': 'nan nan',\n",
      " 'OIDFieldName': 'OID',\n",
      " 'ZExtent': 'nan nan',\n",
      " 'aliasName': '',\n",
      " 'areaFieldName': '',\n",
      " 'baseName': 'test_points',\n",
      " 'canVersion': False,\n",
      " 'catalogPath': 'C:\\\\Users\\\\workstation\\\\GitHub\\\\ouroboros\\\\tests\\\\test_data.gdb\\\\test_points',\n",
      " 'changeTracked': False,\n",
      " 'children': [],\n",
      " 'childrenExpanded': True,\n",
      " 'createdAtFieldName': '',\n",
      " 'creatorFieldName': '',\n",
      " 'dataElementType': 'DEFeatureClass',\n",
      " 'dataType': 'FeatureClass',\n",
      " 'datasetType': 'FeatureClass',\n",
      " 'defaultSubtypeCode': -1,\n",
      " 'editedAtFieldName': '',\n",
      " 'editorFieldName': '',\n",
      " 'editorTrackingEnabled': False,\n",
      " 'extension': '',\n",
      " 'extensionProperties': <geoprocessing describe data object object at 0x00000252BF2D6FD0>,\n",
      " 'extent': <Extent object at 0x252bf236310[0x252b3f90690]>,\n",
      " 'featureType': 'Simple',\n",
      " 'fields': [<geoprocessing describe field object object at 0x00000252BF2D74B0>,\n",
      "            <geoprocessing describe field object object at 0x00000252BF2D7A70>,\n",
      "            <geoprocessing describe field object object at 0x00000252BF2D7930>],\n",
      " 'file': 'test_points',\n",
      " 'fullPropsRetrieved': True,\n",
      " 'geometryStorage': '',\n",
      " 'globalIDFieldName': '',\n",
      " 'hasGlobalID': False,\n",
      " 'hasM': False,\n",
      " 'hasOID': True,\n",
      " 'hasSpatialIndex': True,\n",
      " 'hasZ': False,\n",
      " 'indexes': [<geoprocessing describe index object object at 0x00000252BF2D7A30>,\n",
      "             <geoprocessing describe index object object at 0x00000252BF2D78F0>],\n",
      " 'isTimeInUTC': True,\n",
      " 'isVersioned': False,\n",
      " 'lengthFieldName': '',\n",
      " 'metadataRetrieved': False,\n",
      " 'modelName': '',\n",
      " 'name': 'test_points',\n",
      " 'path': 'C:\\\\Users\\\\workstation\\\\GitHub\\\\ouroboros\\\\tests\\\\test_data.gdb',\n",
      " 'rasterFieldName': '',\n",
      " 'relationshipClassNames': [],\n",
      " 'representations': [],\n",
      " 'shapeFieldName': 'Shape',\n",
      " 'shapeType': 'Point',\n",
      " 'spatialReference': <geoprocessing spatial reference object object at 0x00000252BF2D51D0>,\n",
      " 'subtypeFieldName': '',\n",
      " 'versionedView': ''}\n"
     ]
    }
   ],
   "execution_count": 36
  },
  {
   "metadata": {
    "ExecuteTime": {
     "end_time": "2025-03-23T00:50:32.834672Z",
     "start_time": "2025-03-23T00:50:32.825745Z"
    }
   },
   "cell_type": "code",
   "source": "print(test_points.fields)",
   "id": "5b07e3d5bd13a0d8",
   "outputs": [
    {
     "name": "stdout",
     "output_type": "stream",
     "text": [
      "['OID', 'Shape', 'textfield']\n"
     ]
    }
   ],
   "execution_count": 37
  },
  {
   "metadata": {
    "ExecuteTime": {
     "end_time": "2025-03-23T00:50:33.823372Z",
     "start_time": "2025-03-23T00:50:33.777827Z"
    }
   },
   "cell_type": "code",
   "source": [
    "for pt in test_points:\n",
    "    print(pt)\n",
    "    break"
   ],
   "id": "c9e0744326101aed",
   "outputs": [
    {
     "name": "stdout",
     "output_type": "stream",
     "text": [
      "[1, 'POINT (131.66847018300007 -4.8363037029999418)', None]\n"
     ]
    }
   ],
   "execution_count": 38
  },
  {
   "metadata": {
    "ExecuteTime": {
     "end_time": "2025-03-23T00:50:34.789076Z",
     "start_time": "2025-03-23T00:50:34.729454Z"
    }
   },
   "cell_type": "code",
   "source": [
    "head = test_points[:10]\n",
    "pprint(head)"
   ],
   "id": "11d865336361abcc",
   "outputs": [
    {
     "name": "stdout",
     "output_type": "stream",
     "text": [
      "[[1, 'POINT (131.66847018300007 -4.8363037029999418)', None],\n",
      " [2, 'POINT (46.930818324000029 26.16624910400003)', None],\n",
      " [3, 'POINT (129.20270544400012 -43.696779123999931)', None],\n",
      " [4, 'POINT (-89.230861218999962 -74.249282888999971)', None],\n",
      " [5, 'POINT (26.79647895100004 -8.4357316419999506)', None],\n",
      " [6, 'POINT (-137.54684776999994 -61.157839707999983)', None],\n",
      " [7, 'POINT (83.920377479000081 6.0000919180000665)', None],\n",
      " [8, 'POINT (-171.20806883499998 76.735286899000073)', None],\n",
      " [9, 'POINT (170.76041139100005 79.383183010000039)', None],\n",
      " [10, 'POINT (-155.67660059999997 -32.50517528499995)', None]]\n"
     ]
    }
   ],
   "execution_count": 39
  },
  {
   "metadata": {},
   "cell_type": "code",
   "outputs": [],
   "execution_count": null,
   "source": "",
   "id": "3734e40cdfc682f7"
  }
 ],
 "metadata": {
  "kernelspec": {
   "display_name": "Python 3",
   "language": "python",
   "name": "python3"
  },
  "language_info": {
   "codemirror_mode": {
    "name": "ipython",
    "version": 2
   },
   "file_extension": ".py",
   "mimetype": "text/x-python",
   "name": "python",
   "nbconvert_exporter": "python",
   "pygments_lexer": "ipython2",
   "version": "2.7.6"
  }
 },
 "nbformat": 4,
 "nbformat_minor": 5
}
