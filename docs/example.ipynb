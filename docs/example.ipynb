{
 "cells": [
  {
   "cell_type": "code",
   "id": "initial_id",
   "metadata": {},
   "source": [
    "# Open this notebook in ArcGIS Pro, then change the path below\n",
    "src = r'C:\\Users\\PATH_TO\\ouroboros'"
   ],
   "outputs": [],
   "execution_count": null
  },
  {
   "cell_type": "code",
   "id": "85eaba7293ac11fd",
   "metadata": {},
   "source": [
    "import os\n",
    "import sys\n",
    "from pprint import pprint\n",
    "\n",
    "sys.path.append(os.path.join(src, 'src'))\n",
    "from ouroboros import ouroboros as ob  # noqa"
   ],
   "outputs": [],
   "execution_count": null
  },
  {
   "cell_type": "code",
   "id": "e8c541bacbf08d44",
   "metadata": {},
   "source": [
    "test_points = ob.FeatureClass(os.path.join(src, r'tests\\test_data.gdb\\test_points'))"
   ],
   "outputs": [],
   "execution_count": null
  },
  {
   "cell_type": "code",
   "id": "45ab152bc736e9bc",
   "metadata": {},
   "source": [
    "pprint(test_points.properties)"
   ],
   "outputs": [],
   "execution_count": null
  },
  {
   "cell_type": "code",
   "id": "5b07e3d5bd13a0d8",
   "metadata": {},
   "source": [
    "print(test_points.get_fields())"
   ],
   "outputs": [],
   "execution_count": null
  },
  {
   "cell_type": "code",
   "id": "c9e0744326101aed",
   "metadata": {},
   "source": [
    "for pt in test_points:\n",
    "    print(pt)\n",
    "    break"
   ],
   "outputs": [],
   "execution_count": null
  },
  {
   "cell_type": "code",
   "id": "11d865336361abcc",
   "metadata": {},
   "source": [
    "test_points.head()"
   ],
   "outputs": [],
   "execution_count": null
  },
  {
   "cell_type": "code",
   "id": "3734e40cdfc682f7",
   "metadata": {},
   "source": [
    "test_points.sort('textfield')"
   ],
   "outputs": [],
   "execution_count": null
  }
 ],
 "metadata": {
  "kernelspec": {
   "display_name": "ArcGISPro",
   "language": "python",
   "name": "python3"
  },
  "language_info": {
   "file_extension": ".py",
   "mimetype": "text/x-python",
   "name": "python",
   "version": "3.11.10"
  }
 },
 "nbformat": 4,
 "nbformat_minor": 5
}
