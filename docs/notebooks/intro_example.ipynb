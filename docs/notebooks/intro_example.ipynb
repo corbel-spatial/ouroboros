{
 "cells": [
  {
   "cell_type": "markdown",
   "id": "43dfc179d57f16c9",
   "metadata": {},
   "source": "# Introduction Example"
  },
  {
   "cell_type": "code",
   "execution_count": 1,
   "id": "392f8beea3bd3f9",
   "metadata": {
    "ExecuteTime": {
     "end_time": "2025-08-01T19:34:16.836333Z",
     "start_time": "2025-08-01T19:34:15.888374Z"
    }
   },
   "outputs": [],
   "source": [
    "import ouroboros as ob"
   ]
  },
  {
   "cell_type": "code",
   "execution_count": 2,
   "id": "51f8e8109f033c70",
   "metadata": {
    "ExecuteTime": {
     "end_time": "2025-08-01T19:34:16.921587Z",
     "start_time": "2025-08-01T19:34:16.848489Z"
    }
   },
   "outputs": [],
   "source": [
    "# Create sample data\n",
    "gdb = ob.GeoDatabase(\n",
    "    contents={\n",
    "        \"egg_dataset\": ob.FeatureDataset(\n",
    "            {\"eggs_fc\": ob.FeatureClass(), \"bad_eggs_fc\": ob.FeatureClass()}\n",
    "        ),\n",
    "        \"spam_dataset\": ob.FeatureDataset(\n",
    "            {\n",
    "                \"spam_fc\": ob.FeatureClass(),\n",
    "            }\n",
    "        ),\n",
    "        \"ham\": ob.FeatureClass(),\n",
    "    }\n",
    ")\n",
    "gdb.save(\"spam_and_eggs.gdb\", overwrite=True)"
   ]
  },
  {
   "cell_type": "code",
   "execution_count": null,
   "id": "1cd1c156f06783a1",
   "metadata": {},
   "outputs": [],
   "source": [
    "# Explore an existing dataset\n",
    "gdb_file = \"spam_and_eggs.gdb\"\n",
    "ob.list_datasets(gdb_file)"
   ]
  },
  {
   "cell_type": "code",
   "execution_count": null,
   "id": "6e66b8e1950b999a",
   "metadata": {},
   "outputs": [],
   "source": [
    "# Load a feature class and convert to GeoPandas\n",
    "fc = ob.FeatureClass(\"spam_and_eggs.gdb/egg_dataset/eggs_fc\")\n",
    "type(fc.gdf)"
   ]
  },
  {
   "cell_type": "code",
   "execution_count": 5,
   "id": "54b354a33ecb2994",
   "metadata": {
    "ExecuteTime": {
     "end_time": "2025-08-01T19:34:17.167925Z",
     "start_time": "2025-08-01T19:34:17.160528Z"
    }
   },
   "outputs": [],
   "source": [
    "# Assemble a new geodatabase in memory\n",
    "gdb = ob.GeoDatabase()\n",
    "gdb[\"good_egg_dataset\"] = ob.FeatureDataset()\n",
    "gdb[\"good_egg_dataset\"][\"eggs_fc\"] = ob.FeatureClass(\"spam_and_eggs.gdb/eggs_fc\")"
   ]
  },
  {
   "cell_type": "code",
   "execution_count": null,
   "id": "7d608e44a6e8938b",
   "metadata": {},
   "outputs": [],
   "source": [
    "# Save geodatabase to disk\n",
    "gdb.save(\"good_eggs.gdb\")\n",
    "ob.list_datasets(\"good_eggs.gdb\")"
   ]
  }
 ],
 "metadata": {
  "kernelspec": {
   "display_name": "Python 3",
   "language": "python",
   "name": "python3"
  },
  "language_info": {
   "codemirror_mode": {
    "name": "ipython",
    "version": 2
   },
   "file_extension": ".py",
   "mimetype": "text/x-python",
   "name": "python",
   "nbconvert_exporter": "python",
   "pygments_lexer": "ipython2",
   "version": "2.7.6"
  }
 },
 "nbformat": 4,
 "nbformat_minor": 5
}
