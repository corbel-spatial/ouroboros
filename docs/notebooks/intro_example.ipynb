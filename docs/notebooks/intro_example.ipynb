{
 "cells": [
  {
   "metadata": {},
   "cell_type": "markdown",
   "source": "# Introduction Example",
   "id": "43dfc179d57f16c9"
  },
  {
   "metadata": {
    "ExecuteTime": {
     "end_time": "2025-08-01T19:34:16.836333Z",
     "start_time": "2025-08-01T19:34:15.888374Z"
    }
   },
   "cell_type": "code",
   "source": "import ouroboros as ob",
   "id": "392f8beea3bd3f9",
   "outputs": [],
   "execution_count": 1
  },
  {
   "metadata": {
    "ExecuteTime": {
     "end_time": "2025-08-01T19:34:16.921587Z",
     "start_time": "2025-08-01T19:34:16.848489Z"
    }
   },
   "cell_type": "code",
   "source": [
    "# Create sample data\n",
    "gdb = ob.GeoDatabase(\n",
    "    contents={\n",
    "        \"egg_dataset\": ob.FeatureDataset(\n",
    "            {\"eggs_fc\": ob.FeatureClass(), \"bad_eggs_fc\": ob.FeatureClass()}\n",
    "        ),\n",
    "        \"spam_dataset\": ob.FeatureDataset(\n",
    "            {\n",
    "                \"spam_fc\": ob.FeatureClass(),\n",
    "            }\n",
    "        ),\n",
    "        \"ham\": ob.FeatureClass(),\n",
    "    }\n",
    ")\n",
    "gdb.save(\"spam_and_eggs.gdb\", overwrite=True)"
   ],
   "id": "51f8e8109f033c70",
   "outputs": [],
   "execution_count": 2
  },
  {
   "metadata": {
    "ExecuteTime": {
     "end_time": "2025-08-01T19:34:17.087279Z",
     "start_time": "2025-08-01T19:34:17.074Z"
    }
   },
   "cell_type": "code",
   "source": [
    "# Explore an existing dataset\n",
    "gdb_file = \"spam_and_eggs.gdb\"\n",
    "ob.list_datasets(gdb_file)"
   ],
   "id": "8bb8210fa77b13b8",
   "outputs": [
    {
     "data": {
      "text/plain": [
       "{'egg_dataset': ['eggs_fc', 'bad_eggs_fc'],\n",
       " 'spam_dataset': ['spam_fc'],\n",
       " None: ['ham']}"
      ]
     },
     "execution_count": 3,
     "metadata": {},
     "output_type": "execute_result"
    }
   ],
   "execution_count": 3
  },
  {
   "metadata": {
    "ExecuteTime": {
     "end_time": "2025-08-01T19:34:17.145891Z",
     "start_time": "2025-08-01T19:34:17.136926Z"
    }
   },
   "cell_type": "code",
   "source": [
    "# Load a feature class and convert to GeoPandas\n",
    "fc = ob.FeatureClass(\"spam_and_eggs.gdb/egg_dataset/eggs_fc\")\n",
    "gdf = fc.to_geodataframe()\n",
    "type(gdf)"
   ],
   "id": "f16e97b1ddecbcc0",
   "outputs": [
    {
     "data": {
      "text/plain": [
       "pandas.core.frame.DataFrame"
      ]
     },
     "execution_count": 4,
     "metadata": {},
     "output_type": "execute_result"
    }
   ],
   "execution_count": 4
  },
  {
   "metadata": {
    "ExecuteTime": {
     "end_time": "2025-08-01T19:34:17.167925Z",
     "start_time": "2025-08-01T19:34:17.160528Z"
    }
   },
   "cell_type": "code",
   "source": [
    "# Assemble a new geodatabase in memory\n",
    "gdb = ob.GeoDatabase()\n",
    "gdb['good_egg_dataset'] = ob.FeatureDataset()\n",
    "gdb['good_egg_dataset']['eggs_fc'] = ob.FeatureClass(\"spam_and_eggs.gdb/eggs_fc\")"
   ],
   "id": "54b354a33ecb2994",
   "outputs": [],
   "execution_count": 5
  },
  {
   "metadata": {
    "ExecuteTime": {
     "end_time": "2025-08-01T19:34:17.212605Z",
     "start_time": "2025-08-01T19:34:17.185622Z"
    }
   },
   "cell_type": "code",
   "source": [
    "# Save geodatabase to disk\n",
    "gdb.save(\"good_eggs.gdb\")\n",
    "ob.list_datasets(\"good_eggs.gdb\")"
   ],
   "id": "1379f557050846f4",
   "outputs": [
    {
     "data": {
      "text/plain": [
       "{'good_egg_dataset': ['eggs_fc'], None: []}"
      ]
     },
     "execution_count": 6,
     "metadata": {},
     "output_type": "execute_result"
    }
   ],
   "execution_count": 6
  }
 ],
 "metadata": {
  "kernelspec": {
   "display_name": "Python 3",
   "language": "python",
   "name": "python3"
  },
  "language_info": {
   "codemirror_mode": {
    "name": "ipython",
    "version": 2
   },
   "file_extension": ".py",
   "mimetype": "text/x-python",
   "name": "python",
   "nbconvert_exporter": "python",
   "pygments_lexer": "ipython2",
   "version": "2.7.6"
  }
 },
 "nbformat": 4,
 "nbformat_minor": 5
}
