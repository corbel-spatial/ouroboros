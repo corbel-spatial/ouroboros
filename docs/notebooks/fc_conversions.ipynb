{
 "cells": [
  {
   "metadata": {},
   "cell_type": "markdown",
   "source": "# Converting Feature Classes",
   "id": "c27ab466700af2af"
  },
  {
   "metadata": {
    "ExecuteTime": {
     "end_time": "2025-08-31T20:27:20.498711Z",
     "start_time": "2025-08-31T20:27:06.827445Z"
    }
   },
   "cell_type": "code",
   "source": [
    "import ouroboros as ob\n",
    "\n",
    "# large dataset of US National Highway System roads\n",
    "# https://hepgis-usdot.hub.arcgis.com/datasets/dce9f09392eb474c8ad8e6a78416279b_0\n",
    "fc = ob.FeatureClass(\"NHS.gdb/National_Highway_System__NHS_\")\n",
    "f\"{len(fc)} rows\""
   ],
   "id": "4e919b89c4a6504c",
   "outputs": [
    {
     "data": {
      "text/plain": [
       "'491781 rows'"
      ]
     },
     "execution_count": 2,
     "metadata": {},
     "output_type": "execute_result"
    }
   ],
   "execution_count": 2
  },
  {
   "metadata": {
    "ExecuteTime": {
     "end_time": "2025-08-31T20:27:20.512355Z",
     "start_time": "2025-08-31T20:27:20.507599Z"
    }
   },
   "cell_type": "code",
   "source": [
    "gdf = fc.gdf\n",
    "type(gdf)"
   ],
   "id": "ae7b1221c9d2d876",
   "outputs": [
    {
     "data": {
      "text/plain": [
       "geopandas.geodataframe.GeoDataFrame"
      ]
     },
     "execution_count": 3,
     "metadata": {},
     "output_type": "execute_result"
    }
   ],
   "execution_count": 3
  },
  {
   "metadata": {
    "ExecuteTime": {
     "start_time": "2025-08-31T20:27:20.532083Z"
    }
   },
   "cell_type": "code",
   "source": "fc.gdf.to_file('output.shp')",
   "id": "e5b62155f53c3e19",
   "outputs": [
    {
     "name": "stderr",
     "output_type": "stream",
     "text": [
      "C:\\Users\\workstation\\AppData\\Local\\Temp\\ipykernel_15932\\3257046562.py:1: UserWarning: Column names longer than 10 characters will be truncated when saved to ESRI Shapefile.\n",
      "  gdf.to_file('output.shp')\n"
     ]
    }
   ],
   "execution_count": null
  },
  {
   "metadata": {},
   "cell_type": "code",
   "outputs": [],
   "execution_count": null,
   "source": "",
   "id": "32b7478208b27a84"
  }
 ],
 "metadata": {
  "kernelspec": {
   "display_name": "Python 3",
   "language": "python",
   "name": "python3"
  },
  "language_info": {
   "codemirror_mode": {
    "name": "ipython",
    "version": 2
   },
   "file_extension": ".py",
   "mimetype": "text/x-python",
   "name": "python",
   "nbconvert_exporter": "python",
   "pygments_lexer": "ipython2",
   "version": "2.7.6"
  }
 },
 "nbformat": 4,
 "nbformat_minor": 5
}
