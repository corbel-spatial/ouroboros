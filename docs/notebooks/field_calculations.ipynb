{
 "cells": [
  {
   "metadata": {},
   "cell_type": "markdown",
   "source": "# Field Calculations",
   "id": "1352f7a09dd0bcb0"
  },
  {
   "metadata": {
    "ExecuteTime": {
     "end_time": "2025-08-04T22:17:22.877711Z",
     "start_time": "2025-08-04T22:17:22.265477Z"
    }
   },
   "cell_type": "code",
   "source": [
    "import ouroboros as ob\n",
    "import numpy as np"
   ],
   "id": "70a74488247e76b7",
   "outputs": [],
   "execution_count": 1
  },
  {
   "metadata": {
    "ExecuteTime": {
     "end_time": "2025-08-04T22:17:22.891297Z",
     "start_time": "2025-08-04T22:17:22.888975Z"
    }
   },
   "cell_type": "code",
   "source": [
    "# large dataset of US National Highway System roads\n",
    "# https://hepgis-usdot.hub.arcgis.com/datasets/dce9f09392eb474c8ad8e6a78416279b_0\n",
    "gdb_file = \"NHS.gdb\""
   ],
   "id": "40256b93c77f7073",
   "outputs": [],
   "execution_count": 2
  },
  {
   "metadata": {
    "ExecuteTime": {
     "end_time": "2025-08-04T22:17:34.043156Z",
     "start_time": "2025-08-04T22:17:22.896328Z"
    }
   },
   "cell_type": "code",
   "source": "gdb = ob.GeoDatabase(gdb_file)",
   "id": "ae69d18f3691773a",
   "outputs": [],
   "execution_count": 3
  },
  {
   "metadata": {
    "ExecuteTime": {
     "end_time": "2025-08-04T22:17:34.108734Z",
     "start_time": "2025-08-04T22:17:34.106497Z"
    }
   },
   "cell_type": "code",
   "source": "fc = gdb[0]",
   "id": "9c11a257cbc298f2",
   "outputs": [],
   "execution_count": 4
  },
  {
   "metadata": {
    "ExecuteTime": {
     "end_time": "2025-08-04T22:17:34.169759Z",
     "start_time": "2025-08-04T22:17:34.164709Z"
    }
   },
   "cell_type": "code",
   "source": "fc.list_fields()",
   "id": "ef8b9e89db39c726",
   "outputs": [
    {
     "data": {
      "text/plain": [
       "['ObjectID',\n",
       " 'VERSION',\n",
       " 'YEAR',\n",
       " 'STFIPS',\n",
       " 'CTFIPS',\n",
       " 'ROUTEID',\n",
       " 'BEGINPOINT',\n",
       " 'ENDPOINT',\n",
       " 'SIGN1',\n",
       " 'SIGNT1',\n",
       " 'SIGNN1',\n",
       " 'LNAME',\n",
       " 'NHS',\n",
       " 'STATUS',\n",
       " 'FACID',\n",
       " 'CONNID',\n",
       " 'CONNDES',\n",
       " 'CONNMILES',\n",
       " 'ACLASS',\n",
       " 'FCLASS',\n",
       " 'FACILITYT',\n",
       " 'THROUGH_LA',\n",
       " 'SPEED_LIMI',\n",
       " 'OWNERSHIP',\n",
       " 'URBANCODE',\n",
       " 'AADT',\n",
       " 'AADT_COM',\n",
       " 'AADT_SINGL',\n",
       " 'FUT_AADT',\n",
       " 'FUT_YEAR',\n",
       " 'MILES',\n",
       " 'UPDATE_DAT',\n",
       " 'NHS_ACTION',\n",
       " 'FILE_NAME',\n",
       " 'SHAPE_Length',\n",
       " 'geometry']"
      ]
     },
     "execution_count": 5,
     "metadata": {},
     "output_type": "execute_result"
    }
   ],
   "execution_count": 5
  },
  {
   "metadata": {
    "ExecuteTime": {
     "end_time": "2025-08-04T22:17:34.213719Z",
     "start_time": "2025-08-04T22:17:34.194236Z"
    }
   },
   "cell_type": "code",
   "source": "fc.select_columns(\"VERSION\", geometry=False).head(silent=True)",
   "id": "8931f9eab93582f2",
   "outputs": [
    {
     "data": {
      "text/plain": [
       "             VERSION\n",
       "ObjectID            \n",
       "0         2025.03.27\n",
       "1         2025.03.27\n",
       "2         2025.03.27\n",
       "3         2025.03.27\n",
       "4         2025.03.27\n",
       "5         2025.03.27\n",
       "6         2025.03.27\n",
       "7         2025.03.27\n",
       "8         2025.03.27\n",
       "9         2025.03.27"
      ],
      "text/html": [
       "<div>\n",
       "<style scoped>\n",
       "    .dataframe tbody tr th:only-of-type {\n",
       "        vertical-align: middle;\n",
       "    }\n",
       "\n",
       "    .dataframe tbody tr th {\n",
       "        vertical-align: top;\n",
       "    }\n",
       "\n",
       "    .dataframe thead th {\n",
       "        text-align: right;\n",
       "    }\n",
       "</style>\n",
       "<table border=\"1\" class=\"dataframe\">\n",
       "  <thead>\n",
       "    <tr style=\"text-align: right;\">\n",
       "      <th></th>\n",
       "      <th>VERSION</th>\n",
       "    </tr>\n",
       "    <tr>\n",
       "      <th>ObjectID</th>\n",
       "      <th></th>\n",
       "    </tr>\n",
       "  </thead>\n",
       "  <tbody>\n",
       "    <tr>\n",
       "      <th>0</th>\n",
       "      <td>2025.03.27</td>\n",
       "    </tr>\n",
       "    <tr>\n",
       "      <th>1</th>\n",
       "      <td>2025.03.27</td>\n",
       "    </tr>\n",
       "    <tr>\n",
       "      <th>2</th>\n",
       "      <td>2025.03.27</td>\n",
       "    </tr>\n",
       "    <tr>\n",
       "      <th>3</th>\n",
       "      <td>2025.03.27</td>\n",
       "    </tr>\n",
       "    <tr>\n",
       "      <th>4</th>\n",
       "      <td>2025.03.27</td>\n",
       "    </tr>\n",
       "    <tr>\n",
       "      <th>5</th>\n",
       "      <td>2025.03.27</td>\n",
       "    </tr>\n",
       "    <tr>\n",
       "      <th>6</th>\n",
       "      <td>2025.03.27</td>\n",
       "    </tr>\n",
       "    <tr>\n",
       "      <th>7</th>\n",
       "      <td>2025.03.27</td>\n",
       "    </tr>\n",
       "    <tr>\n",
       "      <th>8</th>\n",
       "      <td>2025.03.27</td>\n",
       "    </tr>\n",
       "    <tr>\n",
       "      <th>9</th>\n",
       "      <td>2025.03.27</td>\n",
       "    </tr>\n",
       "  </tbody>\n",
       "</table>\n",
       "</div>"
      ]
     },
     "execution_count": 6,
     "metadata": {},
     "output_type": "execute_result"
    }
   ],
   "execution_count": 6
  },
  {
   "metadata": {
    "ExecuteTime": {
     "end_time": "2025-08-04T22:17:34.383076Z",
     "start_time": "2025-08-04T22:17:34.282802Z"
    }
   },
   "cell_type": "code",
   "source": [
    "# change all the rows in the \"VERSION\" column to \"2025\"\n",
    "fc.calculate(\"VERSION\", \"2025\")"
   ],
   "id": "778e81d6a600d917",
   "outputs": [],
   "execution_count": 7
  },
  {
   "metadata": {
    "ExecuteTime": {
     "end_time": "2025-08-04T22:17:34.421343Z",
     "start_time": "2025-08-04T22:17:34.413448Z"
    }
   },
   "cell_type": "code",
   "source": "fc.select_columns(\"VERSION\", geometry=False).head(silent=True)",
   "id": "1422ed010961bc23",
   "outputs": [
    {
     "data": {
      "text/plain": [
       "         VERSION\n",
       "ObjectID        \n",
       "0           2025\n",
       "1           2025\n",
       "2           2025\n",
       "3           2025\n",
       "4           2025\n",
       "5           2025\n",
       "6           2025\n",
       "7           2025\n",
       "8           2025\n",
       "9           2025"
      ],
      "text/html": [
       "<div>\n",
       "<style scoped>\n",
       "    .dataframe tbody tr th:only-of-type {\n",
       "        vertical-align: middle;\n",
       "    }\n",
       "\n",
       "    .dataframe tbody tr th {\n",
       "        vertical-align: top;\n",
       "    }\n",
       "\n",
       "    .dataframe thead th {\n",
       "        text-align: right;\n",
       "    }\n",
       "</style>\n",
       "<table border=\"1\" class=\"dataframe\">\n",
       "  <thead>\n",
       "    <tr style=\"text-align: right;\">\n",
       "      <th></th>\n",
       "      <th>VERSION</th>\n",
       "    </tr>\n",
       "    <tr>\n",
       "      <th>ObjectID</th>\n",
       "      <th></th>\n",
       "    </tr>\n",
       "  </thead>\n",
       "  <tbody>\n",
       "    <tr>\n",
       "      <th>0</th>\n",
       "      <td>2025</td>\n",
       "    </tr>\n",
       "    <tr>\n",
       "      <th>1</th>\n",
       "      <td>2025</td>\n",
       "    </tr>\n",
       "    <tr>\n",
       "      <th>2</th>\n",
       "      <td>2025</td>\n",
       "    </tr>\n",
       "    <tr>\n",
       "      <th>3</th>\n",
       "      <td>2025</td>\n",
       "    </tr>\n",
       "    <tr>\n",
       "      <th>4</th>\n",
       "      <td>2025</td>\n",
       "    </tr>\n",
       "    <tr>\n",
       "      <th>5</th>\n",
       "      <td>2025</td>\n",
       "    </tr>\n",
       "    <tr>\n",
       "      <th>6</th>\n",
       "      <td>2025</td>\n",
       "    </tr>\n",
       "    <tr>\n",
       "      <th>7</th>\n",
       "      <td>2025</td>\n",
       "    </tr>\n",
       "    <tr>\n",
       "      <th>8</th>\n",
       "      <td>2025</td>\n",
       "    </tr>\n",
       "    <tr>\n",
       "      <th>9</th>\n",
       "      <td>2025</td>\n",
       "    </tr>\n",
       "  </tbody>\n",
       "</table>\n",
       "</div>"
      ]
     },
     "execution_count": 8,
     "metadata": {},
     "output_type": "execute_result"
    }
   ],
   "execution_count": 8
  },
  {
   "metadata": {
    "ExecuteTime": {
     "end_time": "2025-08-04T22:17:47.080110Z",
     "start_time": "2025-08-04T22:17:34.470857Z"
    }
   },
   "cell_type": "code",
   "source": [
    "fc.calculate(\"MILES\", \"float($MILES$) * 1.609344\", \"km\")\n",
    "fc.select_columns((\"MILES\", \"km\"), geometry=False).head(silent=True)"
   ],
   "id": "92b4c367a3862e7d",
   "outputs": [
    {
     "data": {
      "text/plain": [
       "              MILES         km\n",
       "ObjectID                      \n",
       "0         17.912424  28.827252\n",
       "1          0.949648    1.52831\n",
       "2          1.429447   2.300472\n",
       "3          2.889823   4.650719\n",
       "4          0.249906   0.402185\n",
       "5          0.368853   0.593611\n",
       "6         12.455991  20.045974\n",
       "7          7.699296  12.390816\n",
       "8          3.027736   4.872669\n",
       "9          0.160367   0.258086"
      ],
      "text/html": [
       "<div>\n",
       "<style scoped>\n",
       "    .dataframe tbody tr th:only-of-type {\n",
       "        vertical-align: middle;\n",
       "    }\n",
       "\n",
       "    .dataframe tbody tr th {\n",
       "        vertical-align: top;\n",
       "    }\n",
       "\n",
       "    .dataframe thead th {\n",
       "        text-align: right;\n",
       "    }\n",
       "</style>\n",
       "<table border=\"1\" class=\"dataframe\">\n",
       "  <thead>\n",
       "    <tr style=\"text-align: right;\">\n",
       "      <th></th>\n",
       "      <th>MILES</th>\n",
       "      <th>km</th>\n",
       "    </tr>\n",
       "    <tr>\n",
       "      <th>ObjectID</th>\n",
       "      <th></th>\n",
       "      <th></th>\n",
       "    </tr>\n",
       "  </thead>\n",
       "  <tbody>\n",
       "    <tr>\n",
       "      <th>0</th>\n",
       "      <td>17.912424</td>\n",
       "      <td>28.827252</td>\n",
       "    </tr>\n",
       "    <tr>\n",
       "      <th>1</th>\n",
       "      <td>0.949648</td>\n",
       "      <td>1.52831</td>\n",
       "    </tr>\n",
       "    <tr>\n",
       "      <th>2</th>\n",
       "      <td>1.429447</td>\n",
       "      <td>2.300472</td>\n",
       "    </tr>\n",
       "    <tr>\n",
       "      <th>3</th>\n",
       "      <td>2.889823</td>\n",
       "      <td>4.650719</td>\n",
       "    </tr>\n",
       "    <tr>\n",
       "      <th>4</th>\n",
       "      <td>0.249906</td>\n",
       "      <td>0.402185</td>\n",
       "    </tr>\n",
       "    <tr>\n",
       "      <th>5</th>\n",
       "      <td>0.368853</td>\n",
       "      <td>0.593611</td>\n",
       "    </tr>\n",
       "    <tr>\n",
       "      <th>6</th>\n",
       "      <td>12.455991</td>\n",
       "      <td>20.045974</td>\n",
       "    </tr>\n",
       "    <tr>\n",
       "      <th>7</th>\n",
       "      <td>7.699296</td>\n",
       "      <td>12.390816</td>\n",
       "    </tr>\n",
       "    <tr>\n",
       "      <th>8</th>\n",
       "      <td>3.027736</td>\n",
       "      <td>4.872669</td>\n",
       "    </tr>\n",
       "    <tr>\n",
       "      <th>9</th>\n",
       "      <td>0.160367</td>\n",
       "      <td>0.258086</td>\n",
       "    </tr>\n",
       "  </tbody>\n",
       "</table>\n",
       "</div>"
      ]
     },
     "execution_count": 9,
     "metadata": {},
     "output_type": "execute_result"
    }
   ],
   "execution_count": 9
  },
  {
   "metadata": {
    "ExecuteTime": {
     "end_time": "2025-08-04T22:17:47.179372Z",
     "start_time": "2025-08-04T22:17:47.177575Z"
    }
   },
   "cell_type": "code",
   "source": "",
   "id": "de7b24f2845f2b59",
   "outputs": [],
   "execution_count": null
  }
 ],
 "metadata": {
  "kernelspec": {
   "display_name": "Python 3",
   "language": "python",
   "name": "python3"
  },
  "language_info": {
   "codemirror_mode": {
    "name": "ipython",
    "version": 2
   },
   "file_extension": ".py",
   "mimetype": "text/x-python",
   "name": "python",
   "nbconvert_exporter": "python",
   "pygments_lexer": "ipython2",
   "version": "2.7.6"
  }
 },
 "nbformat": 4,
 "nbformat_minor": 5
}
