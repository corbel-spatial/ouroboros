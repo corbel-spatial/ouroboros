{
 "cells": [
  {
   "metadata": {},
   "cell_type": "markdown",
   "source": "# Using GeoDatabases and GeoDataframes",
   "id": "1daaee6bc674d78c"
  },
  {
   "metadata": {
    "ExecuteTime": {
     "end_time": "2025-07-31T03:14:49.053291Z",
     "start_time": "2025-07-31T03:14:36.136001Z"
    }
   },
   "cell_type": "code",
   "source": [
    "import ouroboros as ob\n",
    "# large dataset of US National Highway System roads\n",
    "# https://hepgis-usdot.hub.arcgis.com/datasets/dce9f09392eb474c8ad8e6a78416279b_0\n",
    "fc = ob.FeatureClass(\"NHS.gdb/National_Highway_System__NHS_\")\n",
    "f\"{len(fc)} rows\""
   ],
   "id": "2350c95724536a35",
   "outputs": [
    {
     "data": {
      "text/plain": [
       "'491781 rows'"
      ]
     },
     "execution_count": 1,
     "metadata": {},
     "output_type": "execute_result"
    }
   ],
   "execution_count": 1
  },
  {
   "metadata": {
    "ExecuteTime": {
     "end_time": "2025-07-31T03:14:49.240391Z",
     "start_time": "2025-07-31T03:14:49.236392Z"
    }
   },
   "cell_type": "code",
   "source": [
    "# Set the CRS when creating the Feature Dataset\n",
    "fds = ob.FeatureDataset(crs=\"EPSG:4326\")\n",
    "fds.crs.name"
   ],
   "id": "3e78ae4650b5b74b",
   "outputs": [
    {
     "data": {
      "text/plain": [
       "'WGS 84'"
      ]
     },
     "execution_count": 2,
     "metadata": {},
     "output_type": "execute_result"
    }
   ],
   "execution_count": 2
  },
  {
   "metadata": {
    "ExecuteTime": {
     "end_time": "2025-07-31T03:14:49.252557Z",
     "start_time": "2025-07-31T03:14:49.249574Z"
    }
   },
   "cell_type": "code",
   "source": [
    "# The FeatureDataset will enforce the CRS\n",
    "try:\n",
    "    fds['NHS'] = fc\n",
    "except:\n",
    "    print(\"This raised an error, CRS mismatch\")"
   ],
   "id": "323267b1224493db",
   "outputs": [
    {
     "name": "stdout",
     "output_type": "stream",
     "text": [
      "This raised an error, CRS mismatch\n"
     ]
    }
   ],
   "execution_count": 3
  },
  {
   "metadata": {
    "ExecuteTime": {
     "end_time": "2025-07-31T03:14:49.260726Z",
     "start_time": "2025-07-31T03:14:49.257303Z"
    }
   },
   "cell_type": "code",
   "source": [
    "# Or create an empty FeatureDataset, which has no CRS by default\n",
    "fds = ob.FeatureDataset()\n",
    "type(fds.crs)"
   ],
   "id": "4bdb541b58948782",
   "outputs": [
    {
     "data": {
      "text/plain": [
       "NoneType"
      ]
     },
     "execution_count": 4,
     "metadata": {},
     "output_type": "execute_result"
    }
   ],
   "execution_count": 4
  },
  {
   "metadata": {
    "ExecuteTime": {
     "end_time": "2025-07-31T03:14:49.277190Z",
     "start_time": "2025-07-31T03:14:49.273957Z"
    }
   },
   "cell_type": "code",
   "source": [
    "# The FeatureDataset sets its CRS from the first FeatureClass added\n",
    "fds['NHS'] = fc\n",
    "fds.crs.name"
   ],
   "id": "97c2dcb61641b30b",
   "outputs": [
    {
     "data": {
      "text/plain": [
       "'WGS 84 / Pseudo-Mercator'"
      ]
     },
     "execution_count": 5,
     "metadata": {},
     "output_type": "execute_result"
    }
   ],
   "execution_count": 5
  },
  {
   "metadata": {
    "ExecuteTime": {
     "end_time": "2025-07-31T03:14:49.289295Z",
     "start_time": "2025-07-31T03:14:49.285903Z"
    }
   },
   "cell_type": "code",
   "source": [
    "# FeatureDatasets can be added to more than one GeoDatabase\n",
    "gdb1 = ob.GeoDatabase()\n",
    "gdb1['NHS_dataset1'] = fds\n",
    "print(gdb1.fds_dict())\n",
    "print(gdb1.fc_dict())\n",
    "\n",
    "gdb2 = ob.GeoDatabase()\n",
    "gdb2['NHS_dataset2'] = fds\n",
    "print(gdb2.fds_dict())\n",
    "print(gdb2.fc_dict())\n",
    "print('Note that the same object has different names ^')"
   ],
   "id": "d1856365df4a1fbb",
   "outputs": [
    {
     "name": "stdout",
     "output_type": "stream",
     "text": [
      "(('NHS_dataset1', <ouroboros.ouroboros.FeatureDataset object at 0x000002B560C53B10>),)\n",
      "(('NHS', <ouroboros.ouroboros.FeatureClass object at 0x000002B5608F1550>),)\n",
      "(('NHS_dataset2', <ouroboros.ouroboros.FeatureDataset object at 0x000002B560C53B10>),)\n",
      "(('NHS', <ouroboros.ouroboros.FeatureClass object at 0x000002B5608F1550>),)\n",
      "Note that the same object has different names ^\n"
     ]
    }
   ],
   "execution_count": 6
  },
  {
   "metadata": {
    "ExecuteTime": {
     "end_time": "2025-07-31T03:14:49.300874Z",
     "start_time": "2025-07-31T03:14:49.297657Z"
    }
   },
   "cell_type": "code",
   "source": [
    "# Adding to the FeatureDataset updates it in both GeoDatabases\n",
    "gdb1['NHS_dataset1']['NHS_2'] = fc\n",
    "print(gdb1.fc_dict())\n",
    "print(gdb2.fc_dict())"
   ],
   "id": "73c4bd57f82f037a",
   "outputs": [
    {
     "name": "stdout",
     "output_type": "stream",
     "text": [
      "(('NHS', <ouroboros.ouroboros.FeatureClass object at 0x000002B5608F1550>), ('NHS_2', <ouroboros.ouroboros.FeatureClass object at 0x000002B5608F1550>))\n",
      "(('NHS', <ouroboros.ouroboros.FeatureClass object at 0x000002B5608F1550>), ('NHS_2', <ouroboros.ouroboros.FeatureClass object at 0x000002B5608F1550>))\n"
     ]
    }
   ],
   "execution_count": 7
  },
  {
   "metadata": {
    "ExecuteTime": {
     "end_time": "2025-07-31T03:14:49.385102Z",
     "start_time": "2025-07-31T03:14:49.305048Z"
    }
   },
   "cell_type": "code",
   "source": [
    "# Adding a FeatureClass directly to a FeatureDataset places it in the FeatureDataset named None\n",
    "gdb1['NHS_fc'] = fc\n",
    "print(gdb1.fds_dict())\n",
    "print(gdb1.fc_dict())"
   ],
   "id": "2c914b1ac12fba5c",
   "outputs": [
    {
     "name": "stdout",
     "output_type": "stream",
     "text": [
      "(('NHS_dataset1', <ouroboros.ouroboros.FeatureDataset object at 0x000002B560C53B10>), (None, <ouroboros.ouroboros.FeatureDataset object at 0x000002B57B6D42D0>))\n",
      "(('NHS', <ouroboros.ouroboros.FeatureClass object at 0x000002B5608F1550>), ('NHS_2', <ouroboros.ouroboros.FeatureClass object at 0x000002B5608F1550>), ('NHS_fc', <ouroboros.ouroboros.FeatureClass object at 0x000002B5608F1550>))\n"
     ]
    }
   ],
   "execution_count": 8
  },
  {
   "metadata": {
    "ExecuteTime": {
     "end_time": "2025-07-31T03:14:49.394024Z",
     "start_time": "2025-07-31T03:14:49.392409Z"
    }
   },
   "cell_type": "code",
   "source": "",
   "id": "ea69392e8194f7c5",
   "outputs": [],
   "execution_count": null
  }
 ],
 "metadata": {
  "kernelspec": {
   "display_name": "Python 3",
   "language": "python",
   "name": "python3"
  },
  "language_info": {
   "codemirror_mode": {
    "name": "ipython",
    "version": 2
   },
   "file_extension": ".py",
   "mimetype": "text/x-python",
   "name": "python",
   "nbconvert_exporter": "python",
   "pygments_lexer": "ipython2",
   "version": "2.7.6"
  }
 },
 "nbformat": 4,
 "nbformat_minor": 5
}
