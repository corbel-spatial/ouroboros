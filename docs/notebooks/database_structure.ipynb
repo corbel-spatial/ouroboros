{
 "cells": [
  {
   "metadata": {},
   "cell_type": "markdown",
   "source": "# Using GeoDatabases and GeoDataframes",
   "id": "1daaee6bc674d78c"
  },
  {
   "metadata": {
    "ExecuteTime": {
     "end_time": "2025-08-14T01:00:02.495568Z",
     "start_time": "2025-08-14T00:59:50.624215Z"
    }
   },
   "cell_type": "code",
   "source": [
    "import ouroboros as ob\n",
    "# large dataset of US National Highway System roads\n",
    "# https://hepgis-usdot.hub.arcgis.com/datasets/dce9f09392eb474c8ad8e6a78416279b_0\n",
    "fc = ob.FeatureClass(\"NHS.gdb/National_Highway_System__NHS_\")\n",
    "f\"{len(fc)} rows\""
   ],
   "id": "2350c95724536a35",
   "outputs": [
    {
     "data": {
      "text/plain": [
       "'491781 rows'"
      ]
     },
     "execution_count": 1,
     "metadata": {},
     "output_type": "execute_result"
    }
   ],
   "execution_count": 1
  },
  {
   "metadata": {
    "ExecuteTime": {
     "end_time": "2025-08-14T01:00:02.522773Z",
     "start_time": "2025-08-14T01:00:02.518500Z"
    }
   },
   "cell_type": "code",
   "source": [
    "# Set the CRS when creating the Feature Dataset\n",
    "fds = ob.FeatureDataset(crs=\"EPSG:4326\")\n",
    "fds.crs.name"
   ],
   "id": "3e78ae4650b5b74b",
   "outputs": [
    {
     "data": {
      "text/plain": [
       "'WGS 84'"
      ]
     },
     "execution_count": 2,
     "metadata": {},
     "output_type": "execute_result"
    }
   ],
   "execution_count": 2
  },
  {
   "metadata": {
    "ExecuteTime": {
     "end_time": "2025-08-14T01:00:02.566513Z",
     "start_time": "2025-08-14T01:00:02.561615Z"
    }
   },
   "cell_type": "code",
   "source": [
    "# The FeatureDataset will enforce the CRS\n",
    "try:\n",
    "    fds['NHS'] = fc\n",
    "except:\n",
    "    print(\"This raised an error, CRS mismatch\")"
   ],
   "id": "323267b1224493db",
   "outputs": [
    {
     "name": "stdout",
     "output_type": "stream",
     "text": [
      "This raised an error, CRS mismatch\n"
     ]
    }
   ],
   "execution_count": 3
  },
  {
   "metadata": {
    "ExecuteTime": {
     "end_time": "2025-08-14T01:00:02.613010Z",
     "start_time": "2025-08-14T01:00:02.608493Z"
    }
   },
   "cell_type": "code",
   "source": [
    "# Or create an empty FeatureDataset, which has no CRS by default\n",
    "fds = ob.FeatureDataset()\n",
    "type(fds.crs)"
   ],
   "id": "4bdb541b58948782",
   "outputs": [
    {
     "data": {
      "text/plain": [
       "NoneType"
      ]
     },
     "execution_count": 4,
     "metadata": {},
     "output_type": "execute_result"
    }
   ],
   "execution_count": 4
  },
  {
   "metadata": {
    "ExecuteTime": {
     "end_time": "2025-08-14T01:00:02.657591Z",
     "start_time": "2025-08-14T01:00:02.652658Z"
    }
   },
   "cell_type": "code",
   "source": [
    "# The FeatureDataset sets its CRS from the first FeatureClass added\n",
    "fds['NHS'] = fc\n",
    "fds.crs.name"
   ],
   "id": "97c2dcb61641b30b",
   "outputs": [
    {
     "data": {
      "text/plain": [
       "'WGS 84 / Pseudo-Mercator'"
      ]
     },
     "execution_count": 5,
     "metadata": {},
     "output_type": "execute_result"
    }
   ],
   "execution_count": 5
  },
  {
   "metadata": {
    "ExecuteTime": {
     "end_time": "2025-08-14T01:00:02.732738Z",
     "start_time": "2025-08-14T01:00:02.727920Z"
    }
   },
   "cell_type": "code",
   "source": [
    "# FeatureDatasets can be added to more than one GeoDatabase\n",
    "gdb1 = ob.GeoDatabase()\n",
    "gdb1['NHS_dataset1'] = fds\n",
    "\n",
    "gdb2 = ob.GeoDatabase()\n",
    "gdb2['NHS_dataset2'] = fds\n",
    "print(gdb1.fds_dict())\n",
    "print(gdb2.fds_dict())\n",
    "print('Note that the same object has different names ^')"
   ],
   "id": "d1856365df4a1fbb",
   "outputs": [
    {
     "name": "stdout",
     "output_type": "stream",
     "text": [
      "{'NHS_dataset1': <ouroboros.ouroboros.FeatureDataset object at 0x0000025D2FCE3C50>}\n",
      "{'NHS_dataset2': <ouroboros.ouroboros.FeatureDataset object at 0x0000025D2FCE3C50>}\n",
      "Note that the same object has different names ^\n"
     ]
    }
   ],
   "execution_count": 6
  },
  {
   "metadata": {
    "ExecuteTime": {
     "end_time": "2025-08-14T01:00:02.768922Z",
     "start_time": "2025-08-14T01:00:02.765180Z"
    }
   },
   "cell_type": "code",
   "source": [
    "# Adding to the FeatureDataset updates it in both GeoDatabases\n",
    "gdb1['NHS_dataset1']['NHS_2'] = fc\n",
    "print(gdb1.fc_dict())\n",
    "print(gdb2.fc_dict())"
   ],
   "id": "73c4bd57f82f037a",
   "outputs": [
    {
     "name": "stdout",
     "output_type": "stream",
     "text": [
      "{'NHS': <ouroboros.ouroboros.FeatureClass object at 0x0000025D2F7F5160>, 'NHS_2': <ouroboros.ouroboros.FeatureClass object at 0x0000025D2F7F5160>}\n",
      "{'NHS': <ouroboros.ouroboros.FeatureClass object at 0x0000025D2F7F5160>, 'NHS_2': <ouroboros.ouroboros.FeatureClass object at 0x0000025D2F7F5160>}\n"
     ]
    }
   ],
   "execution_count": 7
  },
  {
   "metadata": {
    "ExecuteTime": {
     "end_time": "2025-08-14T01:00:02.907653Z",
     "start_time": "2025-08-14T01:00:02.807057Z"
    }
   },
   "cell_type": "code",
   "source": [
    "# Adding a FeatureClass directly to a FeatureDataset places it in the FeatureDataset named None\n",
    "gdb1['NHS_fc'] = fc\n",
    "print(gdb1.fds_dict()[None].fc_names())"
   ],
   "id": "2c914b1ac12fba5c",
   "outputs": [
    {
     "name": "stdout",
     "output_type": "stream",
     "text": [
      "['NHS_fc']\n"
     ]
    }
   ],
   "execution_count": 8
  },
  {
   "metadata": {
    "ExecuteTime": {
     "end_time": "2025-08-14T01:00:02.919622Z",
     "start_time": "2025-08-14T01:00:02.914279Z"
    }
   },
   "cell_type": "code",
   "source": [
    "# FeatureClasses can be accessed as dicts, a list of names, or as a list of objects:\n",
    "gdb1.fc_dict()"
   ],
   "id": "ea69392e8194f7c5",
   "outputs": [
    {
     "data": {
      "text/plain": [
       "{'NHS': <ouroboros.ouroboros.FeatureClass at 0x25d2f7f5160>,\n",
       " 'NHS_2': <ouroboros.ouroboros.FeatureClass at 0x25d2f7f5160>,\n",
       " 'NHS_fc': <ouroboros.ouroboros.FeatureClass at 0x25d2f7f5160>}"
      ]
     },
     "execution_count": 9,
     "metadata": {},
     "output_type": "execute_result"
    }
   ],
   "execution_count": 9
  },
  {
   "metadata": {
    "ExecuteTime": {
     "end_time": "2025-08-14T01:00:02.967740Z",
     "start_time": "2025-08-14T01:00:02.962249Z"
    }
   },
   "cell_type": "code",
   "source": "gdb1.fc_names()",
   "id": "be2007faf0557d36",
   "outputs": [
    {
     "data": {
      "text/plain": [
       "['NHS', 'NHS_2', 'NHS_fc']"
      ]
     },
     "execution_count": 10,
     "metadata": {},
     "output_type": "execute_result"
    }
   ],
   "execution_count": 10
  },
  {
   "metadata": {
    "ExecuteTime": {
     "end_time": "2025-08-14T01:00:03.008162Z",
     "start_time": "2025-08-14T01:00:03.004362Z"
    }
   },
   "cell_type": "code",
   "source": "gdb1.fcs()",
   "id": "fae471e94ea523d2",
   "outputs": [
    {
     "data": {
      "text/plain": [
       "[<ouroboros.ouroboros.FeatureClass at 0x25d2f7f5160>,\n",
       " <ouroboros.ouroboros.FeatureClass at 0x25d2f7f5160>,\n",
       " <ouroboros.ouroboros.FeatureClass at 0x25d2f7f5160>]"
      ]
     },
     "execution_count": 11,
     "metadata": {},
     "output_type": "execute_result"
    }
   ],
   "execution_count": 11
  },
  {
   "metadata": {
    "ExecuteTime": {
     "end_time": "2025-08-14T01:00:03.084060Z",
     "start_time": "2025-08-14T01:00:03.080889Z"
    }
   },
   "cell_type": "code",
   "source": [
    "# Which allows for easy access to FeatureClass functionality\n",
    "for fc in gdb1.fcs():\n",
    "    print(fc.crs.name)"
   ],
   "id": "9c1bc24520947414",
   "outputs": [
    {
     "name": "stdout",
     "output_type": "stream",
     "text": [
      "WGS 84 / Pseudo-Mercator\n",
      "WGS 84 / Pseudo-Mercator\n",
      "WGS 84 / Pseudo-Mercator\n"
     ]
    }
   ],
   "execution_count": 12
  },
  {
   "metadata": {
    "ExecuteTime": {
     "end_time": "2025-08-14T01:00:03.121960Z",
     "start_time": "2025-08-14T01:00:03.118998Z"
    }
   },
   "cell_type": "code",
   "source": "",
   "id": "2dde9b5ea784a8a2",
   "outputs": [],
   "execution_count": null
  }
 ],
 "metadata": {
  "kernelspec": {
   "display_name": "Python 3",
   "language": "python",
   "name": "python3"
  },
  "language_info": {
   "codemirror_mode": {
    "name": "ipython",
    "version": 2
   },
   "file_extension": ".py",
   "mimetype": "text/x-python",
   "name": "python",
   "nbconvert_exporter": "python",
   "pygments_lexer": "ipython2",
   "version": "2.7.6"
  }
 },
 "nbformat": 4,
 "nbformat_minor": 5
}
