{
 "cells": [
  {
   "metadata": {},
   "cell_type": "markdown",
   "source": "# Using GeoDatabases and GeoDataframes",
   "id": "1daaee6bc674d78c"
  },
  {
   "metadata": {
    "ExecuteTime": {
     "end_time": "2025-07-25T02:50:36.602055Z",
     "start_time": "2025-07-25T02:50:25.351977Z"
    }
   },
   "cell_type": "code",
   "source": [
    "import ouroboros as ob\n",
    "# large dataset of US National Highway System roads\n",
    "# https://hepgis-usdot.hub.arcgis.com/datasets/dce9f09392eb474c8ad8e6a78416279b_0\n",
    "fc = ob.FeatureClass(\"NHS.gdb/National_Highway_System__NHS_\")\n",
    "f\"{len(fc)} rows\""
   ],
   "id": "2350c95724536a35",
   "outputs": [
    {
     "data": {
      "text/plain": [
       "'491781 rows'"
      ]
     },
     "execution_count": 35,
     "metadata": {},
     "output_type": "execute_result"
    }
   ],
   "execution_count": 35
  },
  {
   "metadata": {
    "ExecuteTime": {
     "end_time": "2025-07-25T02:50:36.611751Z",
     "start_time": "2025-07-25T02:50:36.607180Z"
    }
   },
   "cell_type": "code",
   "source": [
    "# Set the CRS when creating the Feature Dataset\n",
    "fds = ob.FeatureDataset(crs=\"EPSG:4326\")\n",
    "fds.crs.name"
   ],
   "id": "3e78ae4650b5b74b",
   "outputs": [
    {
     "data": {
      "text/plain": [
       "'WGS 84'"
      ]
     },
     "execution_count": 36,
     "metadata": {},
     "output_type": "execute_result"
    }
   ],
   "execution_count": 36
  },
  {
   "metadata": {
    "ExecuteTime": {
     "end_time": "2025-07-25T02:50:36.632418Z",
     "start_time": "2025-07-25T02:50:36.629066Z"
    }
   },
   "cell_type": "code",
   "source": [
    "# The FeatureDataset will enforce the CRS\n",
    "try:\n",
    "    fds['NHS'] = fc\n",
    "except:\n",
    "    print(\"This raised an error, CRS mismatch\")"
   ],
   "id": "323267b1224493db",
   "outputs": [
    {
     "name": "stdout",
     "output_type": "stream",
     "text": [
      "This raised an error, CRS mismatch\n"
     ]
    }
   ],
   "execution_count": 37
  },
  {
   "metadata": {
    "ExecuteTime": {
     "end_time": "2025-07-25T02:50:36.665556Z",
     "start_time": "2025-07-25T02:50:36.661984Z"
    }
   },
   "cell_type": "code",
   "source": [
    "# Or create an empty FeatureDataset, which has no CRS by default\n",
    "fds = ob.FeatureDataset()\n",
    "type(fds.crs)"
   ],
   "id": "4bdb541b58948782",
   "outputs": [
    {
     "data": {
      "text/plain": [
       "NoneType"
      ]
     },
     "execution_count": 38,
     "metadata": {},
     "output_type": "execute_result"
    }
   ],
   "execution_count": 38
  },
  {
   "metadata": {
    "ExecuteTime": {
     "end_time": "2025-07-25T02:50:36.693317Z",
     "start_time": "2025-07-25T02:50:36.689124Z"
    }
   },
   "cell_type": "code",
   "source": [
    "# The FeatureDataset sets its CRS from the first FeatureClass added\n",
    "fds['NHS'] = fc\n",
    "fds.crs.name"
   ],
   "id": "97c2dcb61641b30b",
   "outputs": [
    {
     "data": {
      "text/plain": [
       "'WGS 84 / Pseudo-Mercator'"
      ]
     },
     "execution_count": 39,
     "metadata": {},
     "output_type": "execute_result"
    }
   ],
   "execution_count": 39
  },
  {
   "metadata": {
    "ExecuteTime": {
     "end_time": "2025-07-25T02:50:36.724165Z",
     "start_time": "2025-07-25T02:50:36.720089Z"
    }
   },
   "cell_type": "code",
   "source": [
    "# FeatureDatasets can be added to more than one GeoDatabase\n",
    "gdb1 = ob.GeoDatabase()\n",
    "gdb1['NHS_dataset1'] = fds\n",
    "print(gdb1.feature_datasets())\n",
    "print(gdb1.feature_classes())\n",
    "\n",
    "gdb2 = ob.GeoDatabase()\n",
    "gdb2['NHS_dataset2'] = fds\n",
    "print(gdb2.feature_datasets())\n",
    "print(gdb2.feature_classes())\n",
    "print('Note that the same object has different names ^')"
   ],
   "id": "d1856365df4a1fbb",
   "outputs": [
    {
     "name": "stdout",
     "output_type": "stream",
     "text": [
      "(('NHS_dataset1', <ouroboros.ouroboros.FeatureDataset object at 0x000001DF22487CB0>),)\n",
      "(('NHS', <ouroboros.ouroboros.FeatureClass object at 0x000001DE88811220>),)\n",
      "(('NHS_dataset2', <ouroboros.ouroboros.FeatureDataset object at 0x000001DF22487CB0>),)\n",
      "(('NHS', <ouroboros.ouroboros.FeatureClass object at 0x000001DE88811220>),)\n",
      "Note that the same object has different names ^\n"
     ]
    }
   ],
   "execution_count": 40
  },
  {
   "metadata": {
    "ExecuteTime": {
     "end_time": "2025-07-25T02:50:36.753367Z",
     "start_time": "2025-07-25T02:50:36.749882Z"
    }
   },
   "cell_type": "code",
   "source": [
    "# Adding to the FeatureDataset updates it in both GeoDatabases\n",
    "gdb1['NHS_dataset1']['NHS_2'] = fc\n",
    "print(gdb1.feature_classes())\n",
    "print(gdb2.feature_classes())"
   ],
   "id": "73c4bd57f82f037a",
   "outputs": [
    {
     "name": "stdout",
     "output_type": "stream",
     "text": [
      "(('NHS', <ouroboros.ouroboros.FeatureClass object at 0x000001DE88811220>), ('NHS_2', <ouroboros.ouroboros.FeatureClass object at 0x000001DE88811220>))\n",
      "(('NHS', <ouroboros.ouroboros.FeatureClass object at 0x000001DE88811220>), ('NHS_2', <ouroboros.ouroboros.FeatureClass object at 0x000001DE88811220>))\n"
     ]
    }
   ],
   "execution_count": 41
  },
  {
   "metadata": {
    "ExecuteTime": {
     "end_time": "2025-07-25T02:50:36.863618Z",
     "start_time": "2025-07-25T02:50:36.774176Z"
    }
   },
   "cell_type": "code",
   "source": [
    "# Adding a FeatureClass directly to a FeatureDataset places it in the FeatureDataset named None\n",
    "gdb1['NHS_fc'] = fc\n",
    "print(gdb1.feature_datasets())\n",
    "print(gdb1.feature_classes())"
   ],
   "id": "2c914b1ac12fba5c",
   "outputs": [
    {
     "name": "stdout",
     "output_type": "stream",
     "text": [
      "(('NHS_dataset1', <ouroboros.ouroboros.FeatureDataset object at 0x000001DF22487CB0>), (None, <ouroboros.ouroboros.FeatureDataset object at 0x000001DE94A81980>))\n",
      "(('NHS', <ouroboros.ouroboros.FeatureClass object at 0x000001DE88811220>), ('NHS_2', <ouroboros.ouroboros.FeatureClass object at 0x000001DE88811220>), ('NHS_fc', <ouroboros.ouroboros.FeatureClass object at 0x000001DE88811220>))\n"
     ]
    }
   ],
   "execution_count": 42
  },
  {
   "metadata": {},
   "cell_type": "code",
   "outputs": [],
   "execution_count": null,
   "source": "",
   "id": "ea69392e8194f7c5"
  }
 ],
 "metadata": {
  "kernelspec": {
   "display_name": "Python 3",
   "language": "python",
   "name": "python3"
  },
  "language_info": {
   "codemirror_mode": {
    "name": "ipython",
    "version": 2
   },
   "file_extension": ".py",
   "mimetype": "text/x-python",
   "name": "python",
   "nbconvert_exporter": "python",
   "pygments_lexer": "ipython2",
   "version": "2.7.6"
  }
 },
 "nbformat": 4,
 "nbformat_minor": 5
}
