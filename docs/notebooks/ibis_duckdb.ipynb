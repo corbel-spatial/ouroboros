{
 "cells": [
  {
   "metadata": {},
   "cell_type": "markdown",
   "source": "# DuckDB and Ibis",
   "id": "b35f73c123fc7d9e"
  },
  {
   "metadata": {
    "collapsed": true,
    "ExecuteTime": {
     "end_time": "2025-08-31T21:11:23.923290Z",
     "start_time": "2025-08-31T21:11:11.161836Z"
    }
   },
   "cell_type": "code",
   "source": [
    "import os\n",
    "\n",
    "import duckdb\n",
    "import ibis\n",
    "import ouroboros as ob\n",
    "\n",
    "# large dataset of US National Highway System roads, one feature class\n",
    "# https://hepgis-usdot.hub.arcgis.com/datasets/dce9f09392eb474c8ad8e6a78416279b_0\n",
    "gdb_path = os.path.abspath(\"NHS.gdb\")\n",
    "fc = ob.GeoDatabase(gdb_path)[0]"
   ],
   "id": "ff2859b4c3fc0e7f",
   "outputs": [],
   "execution_count": 38
  },
  {
   "metadata": {
    "ExecuteTime": {
     "end_time": "2025-08-31T20:53:18.124497Z",
     "start_time": "2025-08-31T20:52:47.241187Z"
    }
   },
   "cell_type": "markdown",
   "source": "## DuckDB",
   "id": "686055d0998a4b28"
  },
  {
   "metadata": {
    "ExecuteTime": {
     "end_time": "2025-08-31T21:11:26.790909Z",
     "start_time": "2025-08-31T21:11:23.938533Z"
    }
   },
   "cell_type": "code",
   "source": [
    "fc_wkt = fc.gdf.to_wkt()\n",
    "duckdb.sql(\"\"\"\n",
    "           SELECT ROUTEID, MILES, geometry\n",
    "           FROM fc_wkt\n",
    "           WHERE ROUTEID='50' AND MILES < 0.25\n",
    "           \"\"\").to_df()"
   ],
   "id": "4ed411ed16d28aa8",
   "outputs": [
    {
     "data": {
      "text/plain": [
       "  ROUTEID     MILES  \\\n",
       "0      50  0.249906   \n",
       "1      50  0.149902   \n",
       "2      50  0.010009   \n",
       "3      50  0.059970   \n",
       "4      50  0.101489   \n",
       "5      50  0.011913   \n",
       "\n",
       "                                                                                                                                                                                                                                                   geometry  \n",
       "0  MULTILINESTRING ((-17749309.8635 2507000.6289, -17749339.5858 2507004.95, -17749380.9967 2507009.3911, -17749425.9698 2507012.3919, -17749467.6032 2507013.2321, -17749530.0535 2507011.1916, -17749599.0716 2507004.2298, -17749740.8926 2506984.1848))  \n",
       "1                                                                                                                         MULTILINESTRING ((-17742072.2045 2508194.4896, -17742117.2889 2508176.964, -17742173.06 2508157.0376, -17742317.33 2508107.3419))  \n",
       "2                                                                                                                    MULTILINESTRING ((-17742056.2858 2508201.4518, -17742064.9687 2508197.6106, -17742071.7592 2508194.6096, -17742072.2045 2508194.4896))  \n",
       "3                                                                                                                                                 MULTILINESTRING ((-17741063.9839 2508660.3652, -17741084.8007 2508657.9644, -17741167.6224 2508651.4821))  \n",
       "4                                                                                                                                                                              MULTILINESTRING ((-10129880.1218 4642597.3777, -10129832.2544 4642393.8426))  \n",
       "5                                                                                                                                                                              MULTILINESTRING ((-10128569.6681 4638189.3022, -10128563.4342 4638165.5759))  "
      ],
      "text/html": [
       "<div>\n",
       "<style scoped>\n",
       "    .dataframe tbody tr th:only-of-type {\n",
       "        vertical-align: middle;\n",
       "    }\n",
       "\n",
       "    .dataframe tbody tr th {\n",
       "        vertical-align: top;\n",
       "    }\n",
       "\n",
       "    .dataframe thead th {\n",
       "        text-align: right;\n",
       "    }\n",
       "</style>\n",
       "<table border=\"1\" class=\"dataframe\">\n",
       "  <thead>\n",
       "    <tr style=\"text-align: right;\">\n",
       "      <th></th>\n",
       "      <th>ROUTEID</th>\n",
       "      <th>MILES</th>\n",
       "      <th>geometry</th>\n",
       "    </tr>\n",
       "  </thead>\n",
       "  <tbody>\n",
       "    <tr>\n",
       "      <th>0</th>\n",
       "      <td>50</td>\n",
       "      <td>0.249906</td>\n",
       "      <td>MULTILINESTRING ((-17749309.8635 2507000.6289, -17749339.5858 2507004.95, -17749380.9967 2507009.3911, -17749425.9698 2507012.3919, -17749467.6032 2507013.2321, -17749530.0535 2507011.1916, -17749599.0716 2507004.2298, -17749740.8926 2506984.1848))</td>\n",
       "    </tr>\n",
       "    <tr>\n",
       "      <th>1</th>\n",
       "      <td>50</td>\n",
       "      <td>0.149902</td>\n",
       "      <td>MULTILINESTRING ((-17742072.2045 2508194.4896, -17742117.2889 2508176.964, -17742173.06 2508157.0376, -17742317.33 2508107.3419))</td>\n",
       "    </tr>\n",
       "    <tr>\n",
       "      <th>2</th>\n",
       "      <td>50</td>\n",
       "      <td>0.010009</td>\n",
       "      <td>MULTILINESTRING ((-17742056.2858 2508201.4518, -17742064.9687 2508197.6106, -17742071.7592 2508194.6096, -17742072.2045 2508194.4896))</td>\n",
       "    </tr>\n",
       "    <tr>\n",
       "      <th>3</th>\n",
       "      <td>50</td>\n",
       "      <td>0.059970</td>\n",
       "      <td>MULTILINESTRING ((-17741063.9839 2508660.3652, -17741084.8007 2508657.9644, -17741167.6224 2508651.4821))</td>\n",
       "    </tr>\n",
       "    <tr>\n",
       "      <th>4</th>\n",
       "      <td>50</td>\n",
       "      <td>0.101489</td>\n",
       "      <td>MULTILINESTRING ((-10129880.1218 4642597.3777, -10129832.2544 4642393.8426))</td>\n",
       "    </tr>\n",
       "    <tr>\n",
       "      <th>5</th>\n",
       "      <td>50</td>\n",
       "      <td>0.011913</td>\n",
       "      <td>MULTILINESTRING ((-10128569.6681 4638189.3022, -10128563.4342 4638165.5759))</td>\n",
       "    </tr>\n",
       "  </tbody>\n",
       "</table>\n",
       "</div>"
      ]
     },
     "execution_count": 39,
     "metadata": {},
     "output_type": "execute_result"
    }
   ],
   "execution_count": 39
  },
  {
   "metadata": {},
   "cell_type": "markdown",
   "source": "## Ibis",
   "id": "7800fdeb1f1a0d53"
  },
  {
   "metadata": {
    "ExecuteTime": {
     "end_time": "2025-08-31T21:11:29.264129Z",
     "start_time": "2025-08-31T21:11:26.902148Z"
    }
   },
   "cell_type": "code",
   "source": [
    "fc.gdf.to_parquet(\"NHS.parquet\")\n",
    "ibis.read_parquet(\"NHS.parquet\")"
   ],
   "id": "df79a50db20c9021",
   "outputs": [
    {
     "data": {
      "text/plain": [
       "DatabaseTable: ibis_read_parquet_olhqqcluofgbtjeji7z3ydgd6y\n",
       "  VERSION      string\n",
       "  YEAR         float64\n",
       "  STFIPS       float64\n",
       "  CTFIPS       float64\n",
       "  ROUTEID      string\n",
       "  BEGINPOINT   float64\n",
       "  ENDPOINT     float64\n",
       "  SIGN1        string\n",
       "  SIGNT1       string\n",
       "  SIGNN1       string\n",
       "  LNAME        string\n",
       "  NHS          float64\n",
       "  STATUS       float64\n",
       "  FACID        string\n",
       "  CONNID       string\n",
       "  CONNDES      string\n",
       "  CONNMILES    float64\n",
       "  ACLASS       string\n",
       "  FCLASS       float64\n",
       "  FACILITYT    float64\n",
       "  THROUGH_LA   float64\n",
       "  SPEED_LIMI   float64\n",
       "  OWNERSHIP    float64\n",
       "  URBANCODE    float64\n",
       "  AADT         float64\n",
       "  AADT_COM     float64\n",
       "  AADT_SINGL   float64\n",
       "  FUT_AADT     float64\n",
       "  FUT_YEAR     timestamp('UTC', 6)\n",
       "  MILES        float64\n",
       "  UPDATE_DAT   timestamp('UTC', 6)\n",
       "  NHS_ACTION   string\n",
       "  FILE_NAME    string\n",
       "  SHAPE_Length float64\n",
       "  geometry     binary"
      ]
     },
     "execution_count": 40,
     "metadata": {},
     "output_type": "execute_result"
    }
   ],
   "execution_count": 40
  }
 ],
 "metadata": {
  "kernelspec": {
   "display_name": "Python 3",
   "language": "python",
   "name": "python3"
  },
  "language_info": {
   "codemirror_mode": {
    "name": "ipython",
    "version": 2
   },
   "file_extension": ".py",
   "mimetype": "text/x-python",
   "name": "python",
   "nbconvert_exporter": "python",
   "pygments_lexer": "ipython2",
   "version": "2.7.6"
  }
 },
 "nbformat": 4,
 "nbformat_minor": 5
}
