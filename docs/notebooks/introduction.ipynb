{
 "cells": [
  {
   "metadata": {},
   "cell_type": "markdown",
   "source": "# Introduction",
   "id": "43dfc179d57f16c9"
  },
  {
   "metadata": {
    "ExecuteTime": {
     "end_time": "2025-08-01T18:49:28.179061Z",
     "start_time": "2025-08-01T18:49:27.249164Z"
    }
   },
   "cell_type": "code",
   "source": "import ouroboros as ob",
   "id": "392f8beea3bd3f9",
   "outputs": [],
   "execution_count": 1
  },
  {
   "metadata": {
    "ExecuteTime": {
     "end_time": "2025-08-01T18:49:28.267969Z",
     "start_time": "2025-08-01T18:49:28.190794Z"
    }
   },
   "cell_type": "code",
   "source": [
    "# Create sample data\n",
    "gdb = ob.GeoDatabase()\n",
    "eggs = ob.FeatureDataset()\n",
    "eggs['eggs_fc'] = ob.FeatureClass()\n",
    "eggs['bad_eggs_fc'] = ob.FeatureClass()\n",
    "spam = ob.FeatureDataset()\n",
    "spam['spam_fc'] = ob.FeatureClass()\n",
    "gdb['egg_dataset'] = eggs\n",
    "gdb['spam_dataset'] = spam\n",
    "gdb['ham'] = ob.FeatureClass()\n",
    "gdb.save(\"spam_and_eggs.gdb\", overwrite=True)"
   ],
   "id": "51f8e8109f033c70",
   "outputs": [],
   "execution_count": 2
  },
  {
   "metadata": {
    "ExecuteTime": {
     "end_time": "2025-08-01T18:49:28.441174Z",
     "start_time": "2025-08-01T18:49:28.428955Z"
    }
   },
   "cell_type": "code",
   "source": [
    "# Explore an existing dataset\n",
    "gdb_file = \"spam_and_eggs.gdb\"\n",
    "ob.list_datasets(gdb_file)"
   ],
   "id": "8bb8210fa77b13b8",
   "outputs": [
    {
     "data": {
      "text/plain": [
       "{'egg_dataset': ['eggs_fc', 'bad_eggs_fc'],\n",
       " 'spam_dataset': ['spam_fc'],\n",
       " None: ['ham']}"
      ]
     },
     "execution_count": 3,
     "metadata": {},
     "output_type": "execute_result"
    }
   ],
   "execution_count": 3
  },
  {
   "metadata": {
    "ExecuteTime": {
     "end_time": "2025-08-01T18:49:28.527117Z",
     "start_time": "2025-08-01T18:49:28.517320Z"
    }
   },
   "cell_type": "code",
   "source": [
    "# Load a feature class and convert to GeoPandas\n",
    "fc = ob.FeatureClass(\"spam_and_eggs.gdb/egg_dataset/eggs_fc\")\n",
    "gdf = fc.to_geodataframe()\n",
    "type(gdf)"
   ],
   "id": "f16e97b1ddecbcc0",
   "outputs": [
    {
     "data": {
      "text/plain": [
       "pandas.core.frame.DataFrame"
      ]
     },
     "execution_count": 4,
     "metadata": {},
     "output_type": "execute_result"
    }
   ],
   "execution_count": 4
  },
  {
   "metadata": {
    "ExecuteTime": {
     "end_time": "2025-08-01T18:49:28.572835Z",
     "start_time": "2025-08-01T18:49:28.565152Z"
    }
   },
   "cell_type": "code",
   "source": [
    "# Assemble a new geodatabase in memory\n",
    "gdb = ob.GeoDatabase()\n",
    "gdb['good_egg_dataset'] = ob.FeatureDataset()\n",
    "gdb['good_egg_dataset']['eggs_fc'] = ob.FeatureClass(\"spam_and_eggs.gdb/eggs_fc\")"
   ],
   "id": "54b354a33ecb2994",
   "outputs": [],
   "execution_count": 5
  },
  {
   "metadata": {
    "ExecuteTime": {
     "end_time": "2025-08-01T18:49:28.630842Z",
     "start_time": "2025-08-01T18:49:28.598134Z"
    }
   },
   "cell_type": "code",
   "source": [
    "# Save geodatabase to disk\n",
    "gdb.save(\"good_eggs.gdb\")\n",
    "ob.list_datasets(\"good_eggs.gdb\")"
   ],
   "id": "1379f557050846f4",
   "outputs": [
    {
     "data": {
      "text/plain": [
       "{'good_egg_dataset': ['eggs_fc'], None: []}"
      ]
     },
     "execution_count": 6,
     "metadata": {},
     "output_type": "execute_result"
    }
   ],
   "execution_count": 6
  }
 ],
 "metadata": {
  "kernelspec": {
   "display_name": "Python 3",
   "language": "python",
   "name": "python3"
  },
  "language_info": {
   "codemirror_mode": {
    "name": "ipython",
    "version": 2
   },
   "file_extension": ".py",
   "mimetype": "text/x-python",
   "name": "python",
   "nbconvert_exporter": "python",
   "pygments_lexer": "ipython2",
   "version": "2.7.6"
  }
 },
 "nbformat": 4,
 "nbformat_minor": 5
}
