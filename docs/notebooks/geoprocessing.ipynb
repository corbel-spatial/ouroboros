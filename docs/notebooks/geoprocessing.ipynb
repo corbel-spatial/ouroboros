{
 "cells": [
  {
   "cell_type": "markdown",
   "id": "8ab10f475f7cbaac",
   "metadata": {},
   "source": "# Geoprocessing"
  },
  {
   "cell_type": "code",
   "execution_count": 4,
   "id": "initial_id",
   "metadata": {
    "ExecuteTime": {
     "end_time": "2025-08-26T02:33:05.074818Z",
     "start_time": "2025-08-26T02:32:53.756142Z"
    },
    "collapsed": true
   },
   "outputs": [
    {
     "data": {
      "text/plain": [
       "'491781 rows'"
      ]
     },
     "execution_count": 4,
     "metadata": {},
     "output_type": "execute_result"
    }
   ],
   "source": [
    "import ouroboros as ob\n",
    "import geopandas as gpd\n",
    "\n",
    "import ouroboros._geoprocessing\n",
    "\n",
    "# large dataset of US National Highway System roads\n",
    "# https://hepgis-usdot.hub.arcgis.com/datasets/dce9f09392eb474c8ad8e6a78416279b_0\n",
    "fc1 = ob.FeatureClass(\"NHS.gdb/National_Highway_System__NHS_\")\n",
    "f\"{len(fc1)} rows\""
   ]
  },
  {
   "cell_type": "code",
   "execution_count": 5,
   "id": "a56d120422259bfb",
   "metadata": {
    "ExecuteTime": {
     "end_time": "2025-08-26T02:33:06.861585Z",
     "start_time": "2025-08-26T02:33:05.082467Z"
    }
   },
   "outputs": [
    {
     "data": {
      "text/plain": [
       "\"100 rows where ROUTEID == '  I 017'\""
      ]
     },
     "execution_count": 5,
     "metadata": {},
     "output_type": "execute_result"
    }
   ],
   "source": [
    "# filter by route ID\n",
    "route = \"  I 017\"\n",
    "field_name = \"ROUTEID\"\n",
    "column_index = fc1.list_fields().index(field_name)\n",
    "\n",
    "filtered = list()\n",
    "for row in fc1:\n",
    "    if row[column_index] == route:\n",
    "        filtered.append(row)\n",
    "\n",
    "fc2 = ob.FeatureClass(gpd.GeoDataFrame(filtered))\n",
    "f\"{len(fc2)} rows where ROUTEID == '{route}'\""
   ]
  },
  {
   "cell_type": "code",
   "execution_count": 6,
   "id": "d590a74670da4820",
   "metadata": {
    "ExecuteTime": {
     "end_time": "2025-08-26T02:33:07.003358Z",
     "start_time": "2025-08-26T02:33:06.900730Z"
    }
   },
   "outputs": [
    {
     "data": {
      "image/png": "[encoded data removed]",
      "text/plain": [
       "<Figure size 640x480 with 1 Axes>"
      ]
     },
     "jetTransient": {
      "display_id": null
     },
     "metadata": {},
     "output_type": "display_data"
    }
   ],
   "source": [
    "# buffer with GeoPandas\n",
    "gdf_buf = ouroboros._geoprocessing.buffer(fc2, 10000)\n",
    "gdf_buf.show()"
   ]
  },
  {
   "cell_type": "code",
   "execution_count": 7,
   "id": "c552399ac5be7cd5",
   "metadata": {
    "ExecuteTime": {
     "end_time": "2025-08-26T02:33:07.013937Z",
     "start_time": "2025-08-26T02:33:07.009417Z"
    }
   },
   "outputs": [],
   "source": [
    "# Load results into a new feature class and geodatabase in memory\n",
    "fc3 = ob.FeatureClass(gdf_buf)\n",
    "gdb = ob.GeoDatabase()\n",
    "gdb[\"NHS_selection_buffered\"] = fc3"
   ]
  },
  {
   "cell_type": "code",
   "execution_count": 8,
   "id": "3c08ddfea74411c6",
   "metadata": {
    "ExecuteTime": {
     "end_time": "2025-08-26T02:33:07.108488Z",
     "start_time": "2025-08-26T02:33:07.063886Z"
    }
   },
   "outputs": [
    {
     "data": {
      "text/plain": [
       "{None: ['NHS_selection_buffered']}"
      ]
     },
     "execution_count": 8,
     "metadata": {},
     "output_type": "execute_result"
    }
   ],
   "source": [
    "# Save to disk\n",
    "gdb.save(\"NHS_selection.gdb\", overwrite=True)\n",
    "ob.list_datasets(\"NHS_selection.gdb\")"
   ]
  },
  {
   "cell_type": "code",
   "execution_count": null,
   "id": "a00e163065a12cfa",
   "metadata": {
    "ExecuteTime": {
     "end_time": "2025-08-26T02:33:07.130189Z",
     "start_time": "2025-08-26T02:33:07.128112Z"
    }
   },
   "outputs": [],
   "source": []
  }
 ],
 "metadata": {
  "kernelspec": {
   "display_name": "Python 3",
   "language": "python",
   "name": "python3"
  },
  "language_info": {
   "codemirror_mode": {
    "name": "ipython",
    "version": 2
   },
   "file_extension": ".py",
   "mimetype": "text/x-python",
   "name": "python",
   "nbconvert_exporter": "python",
   "pygments_lexer": "ipython2",
   "version": "2.7.6"
  }
 },
 "nbformat": 4,
 "nbformat_minor": 5
}
