{
 "cells": [
  {
   "metadata": {},
   "cell_type": "markdown",
   "source": "# Geoprocessing",
   "id": "8ab10f475f7cbaac"
  },
  {
   "metadata": {
    "collapsed": true,
    "ExecuteTime": {
     "end_time": "2025-07-25T21:30:41.722191Z",
     "start_time": "2025-07-25T21:30:30.602172Z"
    }
   },
   "cell_type": "code",
   "source": [
    "import ouroboros as ob\n",
    "import geopandas as gpd\n",
    "\n",
    "# large dataset of US National Highway System roads\n",
    "# https://hepgis-usdot.hub.arcgis.com/datasets/dce9f09392eb474c8ad8e6a78416279b_0\n",
    "fc1 = ob.FeatureClass(\"NHS.gdb/National_Highway_System__NHS_\")\n",
    "f\"{len(fc1)} rows\""
   ],
   "id": "initial_id",
   "outputs": [
    {
     "data": {
      "text/plain": [
       "'491781 rows'"
      ]
     },
     "execution_count": 1,
     "metadata": {},
     "output_type": "execute_result"
    }
   ],
   "execution_count": 1
  },
  {
   "metadata": {
    "ExecuteTime": {
     "end_time": "2025-07-25T21:30:43.233492Z",
     "start_time": "2025-07-25T21:30:41.843934Z"
    }
   },
   "cell_type": "code",
   "source": [
    "# filter by route ID\n",
    "route = \"  I 017\"\n",
    "field_name = \"ROUTEID\"\n",
    "column_index = fc1.list_fields().index(field_name)\n",
    "\n",
    "filtered = list()\n",
    "for row in fc1:\n",
    "    if row[column_index] == route:\n",
    "        filtered.append(row)\n",
    "\n",
    "fc2 = ob.FeatureClass(gpd.GeoDataFrame(filtered))\n",
    "f\"{len(fc2)} rows where ROUTEID == '{route}'\""
   ],
   "id": "a56d120422259bfb",
   "outputs": [
    {
     "data": {
      "text/plain": [
       "\"100 rows where ROUTEID == '  I 017'\""
      ]
     },
     "execution_count": 2,
     "metadata": {},
     "output_type": "execute_result"
    }
   ],
   "execution_count": 2
  },
  {
   "metadata": {
    "ExecuteTime": {
     "end_time": "2025-07-25T21:30:43.608073Z",
     "start_time": "2025-07-25T21:30:43.241415Z"
    }
   },
   "cell_type": "code",
   "source": [
    "# buffer with GeoPandas\n",
    "gdf = fc2.to_geodataframe()\n",
    "gdf = gdf.dissolve()\n",
    "gdf_buf = gpd.GeoDataFrame(gdf, geometry=gdf.buffer(10000))\n",
    "gdf_buf.plot()\n",
    "gdf"
   ],
   "id": "d590a74670da4820",
   "outputs": [
    {
     "data": {
      "text/plain": [
       "                                            geometry  Index     VERSION  \\\n",
       "0  MULTILINESTRING ((-12480284.708 3968955.531, -...   1699  2025.03.27   \n",
       "\n",
       "     YEAR  STFIPS  CTFIPS  ROUTEID  BEGINPOINT  ENDPOINT SIGN1  ...      AADT  \\\n",
       "0  2020.0     4.0    13.0    I 017      12.947    13.995   I17  ...  202400.0   \n",
       "\n",
       "  AADT_COM AADT_SINGL  FUT_AADT                  FUT_YEAR     MILES  \\\n",
       "0   5465.0     6564.0  210087.0 2039-12-31 00:00:00+00:00  1.048136   \n",
       "\n",
       "  UPDATE_DAT NHS_ACTION    FILE_NAME SHAPE_Length  \n",
       "0        NaT             AZ_NHS_2021  2030.728275  \n",
       "\n",
       "[1 rows x 36 columns]"
      ],
      "text/html": [
       "<div>\n",
       "<style scoped>\n",
       "    .dataframe tbody tr th:only-of-type {\n",
       "        vertical-align: middle;\n",
       "    }\n",
       "\n",
       "    .dataframe tbody tr th {\n",
       "        vertical-align: top;\n",
       "    }\n",
       "\n",
       "    .dataframe thead th {\n",
       "        text-align: right;\n",
       "    }\n",
       "</style>\n",
       "<table border=\"1\" class=\"dataframe\">\n",
       "  <thead>\n",
       "    <tr style=\"text-align: right;\">\n",
       "      <th></th>\n",
       "      <th>geometry</th>\n",
       "      <th>Index</th>\n",
       "      <th>VERSION</th>\n",
       "      <th>YEAR</th>\n",
       "      <th>STFIPS</th>\n",
       "      <th>CTFIPS</th>\n",
       "      <th>ROUTEID</th>\n",
       "      <th>BEGINPOINT</th>\n",
       "      <th>ENDPOINT</th>\n",
       "      <th>SIGN1</th>\n",
       "      <th>...</th>\n",
       "      <th>AADT</th>\n",
       "      <th>AADT_COM</th>\n",
       "      <th>AADT_SINGL</th>\n",
       "      <th>FUT_AADT</th>\n",
       "      <th>FUT_YEAR</th>\n",
       "      <th>MILES</th>\n",
       "      <th>UPDATE_DAT</th>\n",
       "      <th>NHS_ACTION</th>\n",
       "      <th>FILE_NAME</th>\n",
       "      <th>SHAPE_Length</th>\n",
       "    </tr>\n",
       "  </thead>\n",
       "  <tbody>\n",
       "    <tr>\n",
       "      <th>0</th>\n",
       "      <td>MULTILINESTRING ((-12480284.708 3968955.531, -...</td>\n",
       "      <td>1699</td>\n",
       "      <td>2025.03.27</td>\n",
       "      <td>2020.0</td>\n",
       "      <td>4.0</td>\n",
       "      <td>13.0</td>\n",
       "      <td>I 017</td>\n",
       "      <td>12.947</td>\n",
       "      <td>13.995</td>\n",
       "      <td>I17</td>\n",
       "      <td>...</td>\n",
       "      <td>202400.0</td>\n",
       "      <td>5465.0</td>\n",
       "      <td>6564.0</td>\n",
       "      <td>210087.0</td>\n",
       "      <td>2039-12-31 00:00:00+00:00</td>\n",
       "      <td>1.048136</td>\n",
       "      <td>NaT</td>\n",
       "      <td></td>\n",
       "      <td>AZ_NHS_2021</td>\n",
       "      <td>2030.728275</td>\n",
       "    </tr>\n",
       "  </tbody>\n",
       "</table>\n",
       "<p>1 rows × 36 columns</p>\n",
       "</div>"
      ]
     },
     "execution_count": 3,
     "metadata": {},
     "output_type": "execute_result"
    },
    {
     "data": {
      "text/plain": [
       "<Figure size 640x480 with 1 Axes>"
      ],
      "image/png": "[encoded data removed]"
     },
     "metadata": {},
     "output_type": "display_data"
    }
   ],
   "execution_count": 3
  },
  {
   "metadata": {
    "ExecuteTime": {
     "end_time": "2025-07-25T21:30:43.652084Z",
     "start_time": "2025-07-25T21:30:43.649571Z"
    }
   },
   "cell_type": "code",
   "source": [
    "# Load results into a new feature class and geodatabase in memory\n",
    "fc3 = ob.FeatureClass(gdf_buf)\n",
    "gdb = ob.GeoDatabase()\n",
    "gdb['NHS_selection_buffered'] = fc3"
   ],
   "id": "c552399ac5be7cd5",
   "outputs": [],
   "execution_count": 4
  },
  {
   "metadata": {
    "ExecuteTime": {
     "end_time": "2025-07-25T21:30:43.751137Z",
     "start_time": "2025-07-25T21:30:43.701137Z"
    }
   },
   "cell_type": "code",
   "source": [
    "# Save to disk\n",
    "gdb.save(\"NHS_selection.gdb\", overwrite=True)\n",
    "ob.list_datasets(\"NHS_selection.gdb\")"
   ],
   "id": "3c08ddfea74411c6",
   "outputs": [
    {
     "data": {
      "text/plain": [
       "{None: ['NHS_selection_buffered']}"
      ]
     },
     "execution_count": 5,
     "metadata": {},
     "output_type": "execute_result"
    }
   ],
   "execution_count": 5
  },
  {
   "metadata": {
    "ExecuteTime": {
     "end_time": "2025-07-25T21:30:43.774063Z",
     "start_time": "2025-07-25T21:30:43.772521Z"
    }
   },
   "cell_type": "code",
   "source": "",
   "id": "a00e163065a12cfa",
   "outputs": [],
   "execution_count": null
  }
 ],
 "metadata": {
  "kernelspec": {
   "display_name": "Python 3",
   "language": "python",
   "name": "python3"
  },
  "language_info": {
   "codemirror_mode": {
    "name": "ipython",
    "version": 2
   },
   "file_extension": ".py",
   "mimetype": "text/x-python",
   "name": "python",
   "nbconvert_exporter": "python",
   "pygments_lexer": "ipython2",
   "version": "2.7.6"
  }
 },
 "nbformat": 4,
 "nbformat_minor": 5
}
