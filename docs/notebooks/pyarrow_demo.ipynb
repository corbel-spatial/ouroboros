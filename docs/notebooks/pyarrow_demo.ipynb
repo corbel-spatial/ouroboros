{
 "cells": [
  {
   "metadata": {},
   "cell_type": "markdown",
   "source": "# PyArrow Demo",
   "id": "f72daea68b7013b9"
  },
  {
   "metadata": {
    "ExecuteTime": {
     "end_time": "2025-07-24T22:37:08.865441Z",
     "start_time": "2025-07-24T22:37:08.862863Z"
    }
   },
   "cell_type": "code",
   "source": [
    "import ouroboros as ob\n",
    "import pyarrow.compute as pc"
   ],
   "id": "d0eb3a0e5e0a12bb",
   "outputs": [],
   "execution_count": 6
  },
  {
   "cell_type": "code",
   "id": "e28154137bdf7d42",
   "metadata": {
    "ExecuteTime": {
     "end_time": "2025-07-24T22:37:21.644429Z",
     "start_time": "2025-07-24T22:37:08.887505Z"
    }
   },
   "source": [
    "# Sample dataset of US National Highway System\n",
    "# https://hepgis-usdot.hub.arcgis.com/datasets/dce9f09392eb474c8ad8e6a78416279b_0\n",
    "\n",
    "gdb = ob.GeoDatabase(\"NHS.gdb\")  # This can take a while\n",
    "gdb.feature_classes()"
   ],
   "outputs": [
    {
     "data": {
      "text/plain": [
       "(('National_Highway_System__NHS_',\n",
       "  <ouroboros.ouroboros.FeatureClass at 0x118115fed50>),)"
      ]
     },
     "execution_count": 7,
     "metadata": {},
     "output_type": "execute_result"
    }
   ],
   "execution_count": 7
  },
  {
   "cell_type": "code",
   "id": "7ec89a62104fb109",
   "metadata": {
    "ExecuteTime": {
     "end_time": "2025-07-24T22:37:21.660828Z",
     "start_time": "2025-07-24T22:37:21.657242Z"
    }
   },
   "source": [
    "fc = gdb['National_Highway_System__NHS_']\n",
    "len(fc)"
   ],
   "outputs": [
    {
     "data": {
      "text/plain": [
       "491781"
      ]
     },
     "execution_count": 8,
     "metadata": {},
     "output_type": "execute_result"
    }
   ],
   "execution_count": 8
  },
  {
   "cell_type": "code",
   "id": "f6da27eb099f863e",
   "metadata": {
    "ExecuteTime": {
     "end_time": "2025-07-24T22:37:23.187709Z",
     "start_time": "2025-07-24T22:37:21.716038Z"
    }
   },
   "source": [
    "arrow_table = fc.to_pyarrow()"
   ],
   "outputs": [],
   "execution_count": 9
  },
  {
   "cell_type": "code",
   "id": "3c070bdbb2060025",
   "metadata": {
    "ExecuteTime": {
     "end_time": "2025-07-24T22:37:23.216428Z",
     "start_time": "2025-07-24T22:37:23.203919Z"
    }
   },
   "source": [
    "# This runs very fast!\n",
    "# Calculate the average difference between postmile distance and listed distance\n",
    "point_mileage = pc.subtract(arrow_table['ENDPOINT'], arrow_table['BEGINPOINT'])\n",
    "mileage_delta = pc.abs(pc.subtract(point_mileage, arrow_table['MILES']))\n",
    "mean_difference = pc.mean(mileage_delta).as_py()\n",
    "f\"{round(mean_difference * 10)} tenths of a mile average difference (distance between mileposts and stated mileage)\""
   ],
   "outputs": [
    {
     "data": {
      "text/plain": [
       "'2 tenths of a mile average difference (distance between mileposts and stated mileage)'"
      ]
     },
     "execution_count": 10,
     "metadata": {},
     "output_type": "execute_result"
    }
   ],
   "execution_count": 10
  },
  {
   "cell_type": "code",
   "id": "6e246df8-c2fb-44f5-9cc7-d31dabc51a90",
   "metadata": {
    "ExecuteTime": {
     "end_time": "2025-07-24T22:37:23.239732Z",
     "start_time": "2025-07-24T22:37:23.237503Z"
    }
   },
   "source": [],
   "outputs": [],
   "execution_count": null
  }
 ],
 "metadata": {
  "kernelspec": {
   "display_name": "Python 3 (ipykernel)",
   "language": "python",
   "name": "python3"
  },
  "language_info": {
   "codemirror_mode": {
    "name": "ipython",
    "version": 3
   },
   "file_extension": ".py",
   "mimetype": "text/x-python",
   "name": "python",
   "nbconvert_exporter": "python",
   "pygments_lexer": "ipython3",
   "version": "3.13.3"
  }
 },
 "nbformat": 4,
 "nbformat_minor": 5
}
