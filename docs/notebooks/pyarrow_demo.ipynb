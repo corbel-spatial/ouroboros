{
 "cells": [
  {
   "cell_type": "markdown",
   "id": "f72daea68b7013b9",
   "metadata": {},
   "source": "# PyArrow Demo"
  },
  {
   "cell_type": "code",
   "execution_count": null,
   "id": "197e4e43bbd2bf36",
   "metadata": {},
   "outputs": [],
   "source": [
    "# Install PyArrow\n",
    "import sys\n",
    "\n",
    "!{sys.executable} -m pip install pyarrow"
   ]
  },
  {
   "cell_type": "code",
   "execution_count": 8,
   "id": "21037cce3cad568c",
   "metadata": {
    "ExecuteTime": {
     "end_time": "2025-08-14T16:36:12.052782Z",
     "start_time": "2025-08-14T16:36:12.049868Z"
    }
   },
   "outputs": [],
   "source": [
    "import ouroboros as ob\n",
    "import pyarrow as pa\n",
    "import pyarrow.compute as pc"
   ]
  },
  {
   "cell_type": "code",
   "execution_count": 9,
   "id": "e28154137bdf7d42",
   "metadata": {
    "ExecuteTime": {
     "end_time": "2025-08-14T16:36:24.891098Z",
     "start_time": "2025-08-14T16:36:12.702994Z"
    }
   },
   "outputs": [
    {
     "data": {
      "text/plain": [
       "['National_Highway_System__NHS_']"
      ]
     },
     "execution_count": 9,
     "metadata": {},
     "output_type": "execute_result"
    }
   ],
   "source": [
    "# Sample dataset of US National Highway System\n",
    "# https://hepgis-usdot.hub.arcgis.com/datasets/dce9f09392eb474c8ad8e6a78416279b_0\n",
    "\n",
    "gdb = ob.GeoDatabase(\"NHS.gdb\")  # This can take a while\n",
    "gdb.fc_names()"
   ]
  },
  {
   "cell_type": "code",
   "execution_count": 10,
   "id": "7ec89a62104fb109",
   "metadata": {
    "ExecuteTime": {
     "end_time": "2025-08-14T16:36:24.932283Z",
     "start_time": "2025-08-14T16:36:24.927982Z"
    }
   },
   "outputs": [
    {
     "data": {
      "text/plain": [
       "491781"
      ]
     },
     "execution_count": 10,
     "metadata": {},
     "output_type": "execute_result"
    }
   ],
   "source": [
    "fc = gdb[\"National_Highway_System__NHS_\"]\n",
    "len(fc)"
   ]
  },
  {
   "cell_type": "code",
   "execution_count": 11,
   "id": "f6da27eb099f863e",
   "metadata": {
    "ExecuteTime": {
     "end_time": "2025-08-14T16:36:26.667512Z",
     "start_time": "2025-08-14T16:36:25.005509Z"
    }
   },
   "outputs": [],
   "source": [
    "arrow_table = fc.gdf.to_arrow()\n",
    "arrow_table = pa.table(arrow_table)"
   ]
  },
  {
   "cell_type": "code",
   "execution_count": 12,
   "id": "3c070bdbb2060025",
   "metadata": {
    "ExecuteTime": {
     "end_time": "2025-08-14T16:36:26.708435Z",
     "start_time": "2025-08-14T16:36:26.699637Z"
    }
   },
   "outputs": [
    {
     "data": {
      "text/plain": [
       "'2 tenths of a mile average difference (distance between mileposts and stated mileage)'"
      ]
     },
     "execution_count": 12,
     "metadata": {},
     "output_type": "execute_result"
    }
   ],
   "source": [
    "# This runs very fast!\n",
    "# Calculate the average difference between postmile distance and listed distance\n",
    "point_mileage = pc.subtract(arrow_table[\"ENDPOINT\"], arrow_table[\"BEGINPOINT\"])\n",
    "mileage_delta = pc.abs(pc.subtract(point_mileage, arrow_table[\"MILES\"]))\n",
    "mean_difference = pc.mean(mileage_delta).as_py()\n",
    "f\"{round(mean_difference * 10)} tenths of a mile average difference (distance between mileposts and stated mileage)\""
   ]
  },
  {
   "cell_type": "code",
   "execution_count": null,
   "id": "6e246df8-c2fb-44f5-9cc7-d31dabc51a90",
   "metadata": {
    "ExecuteTime": {
     "end_time": "2025-07-31T03:14:56.603837Z",
     "start_time": "2025-07-31T03:14:56.602160Z"
    }
   },
   "outputs": [],
   "source": []
  }
 ],
 "metadata": {
  "kernelspec": {
   "display_name": "Python 3 (ipykernel)",
   "language": "python",
   "name": "python3"
  },
  "language_info": {
   "codemirror_mode": {
    "name": "ipython",
    "version": 3
   },
   "file_extension": ".py",
   "mimetype": "text/x-python",
   "name": "python",
   "nbconvert_exporter": "python",
   "pygments_lexer": "ipython3",
   "version": "3.13.3"
  }
 },
 "nbformat": 4,
 "nbformat_minor": 5
}
