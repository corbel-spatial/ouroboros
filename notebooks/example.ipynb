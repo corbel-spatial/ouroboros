{
 "cells": [
  {
   "cell_type": "code",
   "id": "initial_id",
   "metadata": {},
   "source": [
    "# Open this notebook in ArcGIS Pro, then change the path below\n",
    "# src = \"..\\\\\"\n",
    "src = r'C:\\Users\\PATH_TO\\ouroboros'"
   ],
   "outputs": [],
   "execution_count": null
  },
  {
   "cell_type": "code",
   "id": "85eaba7293ac11fd",
   "metadata": {},
   "source": [
    "import os\n",
    "import sys\n",
    "\n",
    "sys.path.append(os.path.join(src, 'src'))\n",
    "import ouroboros as ob  # noqa\n",
    "test_points = ob.FeatureClass(os.path.join(src, r'assets\\test_data.gdb\\test_points'), in_memory=True)"
   ],
   "outputs": [],
   "execution_count": null
  },
  {
   "cell_type": "code",
   "id": "5b07e3d5bd13a0d8",
   "metadata": {},
   "source": [
    "test_points.get_fields()"
   ],
   "outputs": [],
   "execution_count": null
  },
  {
   "cell_type": "code",
   "id": "e8c541bacbf08d44",
   "metadata": {},
   "source": [
    "desc = test_points.describe()\n",
    "desc"
   ],
   "outputs": [],
   "execution_count": null
  },
  {
   "cell_type": "code",
   "id": "45ab152bc736e9bc",
   "metadata": {},
   "source": [
    "desc['shapeType']"
   ],
   "outputs": [],
   "execution_count": null
  },
  {
   "cell_type": "code",
   "id": "c9e0744326101aed",
   "metadata": {},
   "source": [
    "for pt in test_points[10:15]:\n",
    "    print(pt)"
   ],
   "outputs": [],
   "execution_count": null
  },
  {
   "cell_type": "code",
   "id": "86c1b447024f5ed6",
   "metadata": {},
   "source": [
    "idx = test_points.index_field('textfield')\n",
    "for pt in test_points[10:15]:\n",
    "    print(pt[idx])"
   ],
   "outputs": [],
   "execution_count": null
  },
  {
   "cell_type": "code",
   "id": "11d865336361abcc",
   "metadata": {},
   "source": [
    "h = test_points.head()"
   ],
   "outputs": [],
   "execution_count": null
  },
  {
   "cell_type": "code",
   "id": "75751976bd5e618a",
   "metadata": {},
   "source": [
    "# fc.index(objectid) returns the list index of the row with that objectid\n",
    "test_points.index(10)"
   ],
   "outputs": [],
   "execution_count": null
  },
  {
   "cell_type": "code",
   "id": "3734e40cdfc682f7",
   "metadata": {},
   "source": [
    "test_points.sort('textfield', ascending=False)\n",
    "k = test_points.head(5, silent=True)\n",
    "h"
   ],
   "outputs": [],
   "execution_count": null
  },
  {
   "cell_type": "code",
   "id": "4b2197837f489d72",
   "metadata": {},
   "source": [
    "r = reversed(test_points)\n",
    "for i in r:\n",
    "    print(i)\n",
    "    break"
   ],
   "outputs": [],
   "execution_count": null
  },
  {
   "cell_type": "code",
   "id": "faf4dbd7d8dd5734",
   "metadata": {},
   "source": [
    "len(test_points)"
   ],
   "outputs": [],
   "execution_count": null
  },
  {
   "cell_type": "code",
   "id": "1d066491b30caf4d",
   "metadata": {},
   "source": [
    "p = test_points.pop()\n",
    "len(test_points)"
   ],
   "outputs": [],
   "execution_count": null
  },
  {
   "cell_type": "code",
   "id": "603a50919377b24e",
   "metadata": {},
   "source": [
    "test_points.remove(1)\n",
    "len(test_points)"
   ],
   "outputs": [],
   "execution_count": null
  },
  {
   "cell_type": "code",
   "id": "f61d75aa65ebf15e",
   "metadata": {},
   "source": [
    "test_points.to_geojson()"
   ],
   "outputs": [],
   "execution_count": null
  },
  {
   "cell_type": "code",
   "id": "42b8894e09813e87",
   "metadata": {},
   "source": [
    "test_points.to_shapely()"
   ],
   "outputs": [],
   "execution_count": null
  },
  {
   "cell_type": "code",
   "id": "ba752088d38e5bc4",
   "metadata": {},
   "source": [
    "out_path = ob.utils.get_memory_path()\n",
    "test_points.save(out_path)\n",
    "test_points.clear()\n",
    "len(test_points)"
   ],
   "outputs": [],
   "execution_count": null
  },
  {
   "cell_type": "code",
   "id": "4d57a1ca-8caf-4e06-a66f-719f13a81e3f",
   "metadata": {},
   "source": [],
   "outputs": [],
   "execution_count": null
  }
 ],
 "metadata": {
  "kernelspec": {
   "display_name": "ArcGISPro",
   "language": "python",
   "name": "python3"
  },
  "language_info": {
   "file_extension": ".py",
   "mimetype": "text/x-python",
   "name": "python",
   "version": "3.11.10"
  }
 },
 "nbformat": 4,
 "nbformat_minor": 5
}
