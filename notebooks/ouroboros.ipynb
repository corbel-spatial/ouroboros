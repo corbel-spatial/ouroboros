{
 "cells": [
  {
   "cell_type": "code",
   "id": "initial_id",
   "metadata": {
    "collapsed": true,
    "ExecuteTime": {
     "end_time": "2025-07-16T23:49:07.592221Z",
     "start_time": "2025-07-16T23:48:56.194857Z"
    }
   },
   "source": [
    "import ouroboros as ob\n",
    "\n",
    "# Sample dataset of US National Highway System\n",
    "# https://hepgis-usdot.hub.arcgis.com/datasets/dce9f09392eb474c8ad8e6a78416279b_0\n",
    "\n",
    "gdb = ob.GeoDatabase(\"NHS.gdb\")\n",
    "gdb.feature_classes"
   ],
   "outputs": [
    {
     "data": {
      "text/plain": [
       "['National_Highway_System__NHS_']"
      ]
     },
     "execution_count": 6,
     "metadata": {},
     "output_type": "execute_result"
    }
   ],
   "execution_count": 6
  },
  {
   "metadata": {
    "ExecuteTime": {
     "end_time": "2025-07-16T23:50:12.153552Z",
     "start_time": "2025-07-16T23:50:11.975457Z"
    }
   },
   "cell_type": "code",
   "source": [
    "fc1 = gdb['National_Highway_System__NHS_']\n",
    "fc2 = gdb[0]"
   ],
   "id": "23bafac4aea43723",
   "outputs": [],
   "execution_count": 7
  },
  {
   "metadata": {
    "ExecuteTime": {
     "end_time": "2025-07-16T23:50:47.840441Z",
     "start_time": "2025-07-16T23:50:47.824776Z"
    }
   },
   "cell_type": "code",
   "source": "fc1[100]",
   "id": "d34b32e14cb9838f",
   "outputs": [
    {
     "data": {
      "text/plain": [
       "             VERSION    YEAR  STFIPS  CTFIPS ROUTEID  BEGINPOINT  ENDPOINT  \\\n",
       "ObjectID                                                                     \n",
       "100       2025.03.27  2020.0    15.0     1.0      19         0.0     99.49   \n",
       "\n",
       "         SIGN1 SIGNT1 SIGNN1  ... AADT_COM  AADT_SINGL  FUT_AADT  \\\n",
       "ObjectID                      ...                                  \n",
       "100        S19      S     19  ...    283.0       477.0   12439.0   \n",
       "\n",
       "                          FUT_YEAR     MILES UPDATE_DAT  NHS_ACTION  \\\n",
       "ObjectID                                                              \n",
       "100      2039-12-31 00:00:00+00:00  0.080054        NaT               \n",
       "\n",
       "            FILE_NAME  SHAPE_Length  \\\n",
       "ObjectID                              \n",
       "100       HI_NHS_2021    137.221299   \n",
       "\n",
       "                                                   geometry  \n",
       "ObjectID                                                     \n",
       "100       MULTILINESTRING ((-17364683.229 2250312.543, -...  \n",
       "\n",
       "[1 rows x 35 columns]"
      ],
      "text/html": [
       "<div>\n",
       "<style scoped>\n",
       "    .dataframe tbody tr th:only-of-type {\n",
       "        vertical-align: middle;\n",
       "    }\n",
       "\n",
       "    .dataframe tbody tr th {\n",
       "        vertical-align: top;\n",
       "    }\n",
       "\n",
       "    .dataframe thead th {\n",
       "        text-align: right;\n",
       "    }\n",
       "</style>\n",
       "<table border=\"1\" class=\"dataframe\">\n",
       "  <thead>\n",
       "    <tr style=\"text-align: right;\">\n",
       "      <th></th>\n",
       "      <th>VERSION</th>\n",
       "      <th>YEAR</th>\n",
       "      <th>STFIPS</th>\n",
       "      <th>CTFIPS</th>\n",
       "      <th>ROUTEID</th>\n",
       "      <th>BEGINPOINT</th>\n",
       "      <th>ENDPOINT</th>\n",
       "      <th>SIGN1</th>\n",
       "      <th>SIGNT1</th>\n",
       "      <th>SIGNN1</th>\n",
       "      <th>...</th>\n",
       "      <th>AADT_COM</th>\n",
       "      <th>AADT_SINGL</th>\n",
       "      <th>FUT_AADT</th>\n",
       "      <th>FUT_YEAR</th>\n",
       "      <th>MILES</th>\n",
       "      <th>UPDATE_DAT</th>\n",
       "      <th>NHS_ACTION</th>\n",
       "      <th>FILE_NAME</th>\n",
       "      <th>SHAPE_Length</th>\n",
       "      <th>geometry</th>\n",
       "    </tr>\n",
       "    <tr>\n",
       "      <th>ObjectID</th>\n",
       "      <th></th>\n",
       "      <th></th>\n",
       "      <th></th>\n",
       "      <th></th>\n",
       "      <th></th>\n",
       "      <th></th>\n",
       "      <th></th>\n",
       "      <th></th>\n",
       "      <th></th>\n",
       "      <th></th>\n",
       "      <th></th>\n",
       "      <th></th>\n",
       "      <th></th>\n",
       "      <th></th>\n",
       "      <th></th>\n",
       "      <th></th>\n",
       "      <th></th>\n",
       "      <th></th>\n",
       "      <th></th>\n",
       "      <th></th>\n",
       "      <th></th>\n",
       "    </tr>\n",
       "  </thead>\n",
       "  <tbody>\n",
       "    <tr>\n",
       "      <th>100</th>\n",
       "      <td>2025.03.27</td>\n",
       "      <td>2020.0</td>\n",
       "      <td>15.0</td>\n",
       "      <td>1.0</td>\n",
       "      <td>19</td>\n",
       "      <td>0.0</td>\n",
       "      <td>99.49</td>\n",
       "      <td>S19</td>\n",
       "      <td>S</td>\n",
       "      <td>19</td>\n",
       "      <td>...</td>\n",
       "      <td>283.0</td>\n",
       "      <td>477.0</td>\n",
       "      <td>12439.0</td>\n",
       "      <td>2039-12-31 00:00:00+00:00</td>\n",
       "      <td>0.080054</td>\n",
       "      <td>NaT</td>\n",
       "      <td></td>\n",
       "      <td>HI_NHS_2021</td>\n",
       "      <td>137.221299</td>\n",
       "      <td>MULTILINESTRING ((-17364683.229 2250312.543, -...</td>\n",
       "    </tr>\n",
       "  </tbody>\n",
       "</table>\n",
       "<p>1 rows × 35 columns</p>\n",
       "</div>"
      ]
     },
     "execution_count": 8,
     "metadata": {},
     "output_type": "execute_result"
    }
   ],
   "execution_count": 8
  },
  {
   "metadata": {
    "ExecuteTime": {
     "end_time": "2025-07-16T23:51:21.814852Z",
     "start_time": "2025-07-16T23:51:21.798509Z"
    }
   },
   "cell_type": "code",
   "source": "fc2[100]",
   "id": "340d4c7d4d463e99",
   "outputs": [
    {
     "data": {
      "text/plain": [
       "             VERSION    YEAR  STFIPS  CTFIPS ROUTEID  BEGINPOINT  ENDPOINT  \\\n",
       "ObjectID                                                                     \n",
       "100       2025.03.27  2020.0    15.0     1.0      19         0.0     99.49   \n",
       "\n",
       "         SIGN1 SIGNT1 SIGNN1  ... AADT_COM  AADT_SINGL  FUT_AADT  \\\n",
       "ObjectID                      ...                                  \n",
       "100        S19      S     19  ...    283.0       477.0   12439.0   \n",
       "\n",
       "                          FUT_YEAR     MILES UPDATE_DAT  NHS_ACTION  \\\n",
       "ObjectID                                                              \n",
       "100      2039-12-31 00:00:00+00:00  0.080054        NaT               \n",
       "\n",
       "            FILE_NAME  SHAPE_Length  \\\n",
       "ObjectID                              \n",
       "100       HI_NHS_2021    137.221299   \n",
       "\n",
       "                                                   geometry  \n",
       "ObjectID                                                     \n",
       "100       MULTILINESTRING ((-17364683.229 2250312.543, -...  \n",
       "\n",
       "[1 rows x 35 columns]"
      ],
      "text/html": [
       "<div>\n",
       "<style scoped>\n",
       "    .dataframe tbody tr th:only-of-type {\n",
       "        vertical-align: middle;\n",
       "    }\n",
       "\n",
       "    .dataframe tbody tr th {\n",
       "        vertical-align: top;\n",
       "    }\n",
       "\n",
       "    .dataframe thead th {\n",
       "        text-align: right;\n",
       "    }\n",
       "</style>\n",
       "<table border=\"1\" class=\"dataframe\">\n",
       "  <thead>\n",
       "    <tr style=\"text-align: right;\">\n",
       "      <th></th>\n",
       "      <th>VERSION</th>\n",
       "      <th>YEAR</th>\n",
       "      <th>STFIPS</th>\n",
       "      <th>CTFIPS</th>\n",
       "      <th>ROUTEID</th>\n",
       "      <th>BEGINPOINT</th>\n",
       "      <th>ENDPOINT</th>\n",
       "      <th>SIGN1</th>\n",
       "      <th>SIGNT1</th>\n",
       "      <th>SIGNN1</th>\n",
       "      <th>...</th>\n",
       "      <th>AADT_COM</th>\n",
       "      <th>AADT_SINGL</th>\n",
       "      <th>FUT_AADT</th>\n",
       "      <th>FUT_YEAR</th>\n",
       "      <th>MILES</th>\n",
       "      <th>UPDATE_DAT</th>\n",
       "      <th>NHS_ACTION</th>\n",
       "      <th>FILE_NAME</th>\n",
       "      <th>SHAPE_Length</th>\n",
       "      <th>geometry</th>\n",
       "    </tr>\n",
       "    <tr>\n",
       "      <th>ObjectID</th>\n",
       "      <th></th>\n",
       "      <th></th>\n",
       "      <th></th>\n",
       "      <th></th>\n",
       "      <th></th>\n",
       "      <th></th>\n",
       "      <th></th>\n",
       "      <th></th>\n",
       "      <th></th>\n",
       "      <th></th>\n",
       "      <th></th>\n",
       "      <th></th>\n",
       "      <th></th>\n",
       "      <th></th>\n",
       "      <th></th>\n",
       "      <th></th>\n",
       "      <th></th>\n",
       "      <th></th>\n",
       "      <th></th>\n",
       "      <th></th>\n",
       "      <th></th>\n",
       "    </tr>\n",
       "  </thead>\n",
       "  <tbody>\n",
       "    <tr>\n",
       "      <th>100</th>\n",
       "      <td>2025.03.27</td>\n",
       "      <td>2020.0</td>\n",
       "      <td>15.0</td>\n",
       "      <td>1.0</td>\n",
       "      <td>19</td>\n",
       "      <td>0.0</td>\n",
       "      <td>99.49</td>\n",
       "      <td>S19</td>\n",
       "      <td>S</td>\n",
       "      <td>19</td>\n",
       "      <td>...</td>\n",
       "      <td>283.0</td>\n",
       "      <td>477.0</td>\n",
       "      <td>12439.0</td>\n",
       "      <td>2039-12-31 00:00:00+00:00</td>\n",
       "      <td>0.080054</td>\n",
       "      <td>NaT</td>\n",
       "      <td></td>\n",
       "      <td>HI_NHS_2021</td>\n",
       "      <td>137.221299</td>\n",
       "      <td>MULTILINESTRING ((-17364683.229 2250312.543, -...</td>\n",
       "    </tr>\n",
       "  </tbody>\n",
       "</table>\n",
       "<p>1 rows × 35 columns</p>\n",
       "</div>"
      ]
     },
     "execution_count": 9,
     "metadata": {},
     "output_type": "execute_result"
    }
   ],
   "execution_count": 9
  },
  {
   "metadata": {
    "ExecuteTime": {
     "end_time": "2025-07-16T23:51:56.108616Z",
     "start_time": "2025-07-16T23:51:56.106307Z"
    }
   },
   "cell_type": "code",
   "source": "",
   "id": "fdb9869c18e104c9",
   "outputs": [],
   "execution_count": null
  }
 ],
 "metadata": {
  "kernelspec": {
   "display_name": "Python 3",
   "language": "python",
   "name": "python3"
  },
  "language_info": {
   "codemirror_mode": {
    "name": "ipython",
    "version": 2
   },
   "file_extension": ".py",
   "mimetype": "text/x-python",
   "name": "python",
   "nbconvert_exporter": "python",
   "pygments_lexer": "ipython2",
   "version": "2.7.6"
  }
 },
 "nbformat": 4,
 "nbformat_minor": 5
}
