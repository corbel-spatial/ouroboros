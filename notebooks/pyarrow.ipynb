{
 "cells": [
  {
   "metadata": {
    "ExecuteTime": {
     "end_time": "2025-07-16T23:33:26.782879Z",
     "start_time": "2025-07-16T23:33:26.315915Z"
    }
   },
   "cell_type": "code",
   "source": [
    "import ouroboros as ob\n",
    "import pyarrow.compute as pc"
   ],
   "id": "d0eb3a0e5e0a12bb",
   "outputs": [],
   "execution_count": 1
  },
  {
   "metadata": {
    "ExecuteTime": {
     "end_time": "2025-07-16T23:33:38.121014Z",
     "start_time": "2025-07-16T23:33:26.883961Z"
    }
   },
   "cell_type": "code",
   "source": [
    "# Sample dataset of US National Highway System\n",
    "# https://hepgis-usdot.hub.arcgis.com/datasets/dce9f09392eb474c8ad8e6a78416279b_0\n",
    "\n",
    "gdb = ob.GeoDatabase(\"NHS.gdb\")\n",
    "gdb.feature_classes"
   ],
   "id": "e28154137bdf7d42",
   "outputs": [
    {
     "data": {
      "text/plain": [
       "['National_Highway_System__NHS_']"
      ]
     },
     "execution_count": 2,
     "metadata": {},
     "output_type": "execute_result"
    }
   ],
   "execution_count": 2
  },
  {
   "metadata": {
    "ExecuteTime": {
     "end_time": "2025-07-16T23:33:38.148482Z",
     "start_time": "2025-07-16T23:33:38.143781Z"
    }
   },
   "cell_type": "code",
   "source": [
    "fc = gdb['National_Highway_System__NHS_']\n",
    "len(fc)"
   ],
   "id": "7ec89a62104fb109",
   "outputs": [
    {
     "data": {
      "text/plain": [
       "491781"
      ]
     },
     "execution_count": 3,
     "metadata": {},
     "output_type": "execute_result"
    }
   ],
   "execution_count": 3
  },
  {
   "metadata": {
    "ExecuteTime": {
     "end_time": "2025-07-16T23:33:55.982329Z",
     "start_time": "2025-07-16T23:33:54.644001Z"
    }
   },
   "cell_type": "code",
   "source": "ar = fc.to_pyarrow()",
   "id": "f6da27eb099f863e",
   "outputs": [],
   "execution_count": 4
  },
  {
   "metadata": {
    "ExecuteTime": {
     "end_time": "2025-07-16T23:34:12.859029Z",
     "start_time": "2025-07-16T23:34:12.850585Z"
    }
   },
   "cell_type": "code",
   "source": [
    "# calculate the average difference between postmile distance and listed distance\n",
    "point_mileage = pc.subtract(ar['ENDPOINT'], ar['BEGINPOINT'])\n",
    "mileage_delta = pc.abs(pc.subtract(point_mileage, ar['MILES']))\n",
    "mean_difference = pc.mean(mileage_delta).as_py()\n",
    "f\"{round(mean_difference * 10)} tenths of a mile average difference\""
   ],
   "id": "3c070bdbb2060025",
   "outputs": [
    {
     "data": {
      "text/plain": [
       "'2 tenths of a mile average difference'"
      ]
     },
     "execution_count": 5,
     "metadata": {},
     "output_type": "execute_result"
    }
   ],
   "execution_count": 5
  }
 ],
 "metadata": {
  "kernelspec": {
   "display_name": "Python 3",
   "language": "python",
   "name": "python3"
  },
  "language_info": {
   "codemirror_mode": {
    "name": "ipython",
    "version": 2
   },
   "file_extension": ".py",
   "mimetype": "text/x-python",
   "name": "python",
   "nbconvert_exporter": "python",
   "pygments_lexer": "ipython2",
   "version": "2.7.6"
  }
 },
 "nbformat": 4,
 "nbformat_minor": 5
}
