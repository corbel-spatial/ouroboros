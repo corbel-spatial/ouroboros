{
 "cells": [
  {
   "cell_type": "code",
   "execution_count": 1,
   "id": "d0eb3a0e5e0a12bb",
   "metadata": {
    "ExecuteTime": {
     "end_time": "2025-07-18T18:25:52.898687Z",
     "start_time": "2025-07-18T18:25:52.477079Z"
    }
   },
   "outputs": [],
   "source": [
    "import ouroboros as ob\n",
    "import pyarrow.compute as pc"
   ]
  },
  {
   "cell_type": "code",
   "execution_count": 2,
   "id": "e28154137bdf7d42",
   "metadata": {
    "ExecuteTime": {
     "end_time": "2025-07-18T18:26:07.006500Z",
     "start_time": "2025-07-18T18:25:53.012009Z"
    }
   },
   "outputs": [
    {
     "data": {
      "text/plain": [
       "(('National_Highway_System__NHS_',\n",
       "  <ouroboros.ouroboros.FeatureClass at 0x259e6ae7e00>),)"
      ]
     },
     "execution_count": 2,
     "metadata": {},
     "output_type": "execute_result"
    }
   ],
   "source": [
    "# Sample dataset of US National Highway System\n",
    "# https://hepgis-usdot.hub.arcgis.com/datasets/dce9f09392eb474c8ad8e6a78416279b_0\n",
    "\n",
    "gdb = ob.GeoDatabase(\"NHS.gdb\")\n",
    "gdb.feature_classes()"
   ]
  },
  {
   "cell_type": "code",
   "execution_count": 3,
   "id": "7ec89a62104fb109",
   "metadata": {
    "ExecuteTime": {
     "end_time": "2025-07-18T18:26:07.026884Z",
     "start_time": "2025-07-18T18:26:07.023082Z"
    }
   },
   "outputs": [
    {
     "data": {
      "text/plain": [
       "491781"
      ]
     },
     "execution_count": 3,
     "metadata": {},
     "output_type": "execute_result"
    }
   ],
   "source": [
    "fc = gdb['National_Highway_System__NHS_']\n",
    "len(fc)"
   ]
  },
  {
   "cell_type": "code",
   "execution_count": 4,
   "id": "f6da27eb099f863e",
   "metadata": {
    "ExecuteTime": {
     "end_time": "2025-07-18T18:26:48.004474Z",
     "start_time": "2025-07-18T18:26:46.431162Z"
    }
   },
   "outputs": [],
   "source": [
    "arrow_table = fc.to_pyarrow()"
   ]
  },
  {
   "cell_type": "code",
   "execution_count": 5,
   "id": "3c070bdbb2060025",
   "metadata": {
    "ExecuteTime": {
     "end_time": "2025-07-18T18:27:06.817007Z",
     "start_time": "2025-07-18T18:27:06.805541Z"
    }
   },
   "outputs": [
    {
     "data": {
      "text/plain": [
       "'2 tenths of a mile average difference (distance between mileposts and stated mileage)'"
      ]
     },
     "execution_count": 5,
     "metadata": {},
     "output_type": "execute_result"
    }
   ],
   "source": [
    "# calculate the average difference between postmile distance and listed distance\n",
    "point_mileage = pc.subtract(arrow_table['ENDPOINT'], arrow_table['BEGINPOINT'])\n",
    "mileage_delta = pc.abs(pc.subtract(point_mileage, arrow_table['MILES']))\n",
    "mean_difference = pc.mean(mileage_delta).as_py()\n",
    "f\"{round(mean_difference * 10)} tenths of a mile average difference (distance between mileposts and stated mileage)\""
   ]
  },
  {
   "cell_type": "code",
   "execution_count": null,
   "id": "6e246df8-c2fb-44f5-9cc7-d31dabc51a90",
   "metadata": {},
   "outputs": [],
   "source": []
  }
 ],
 "metadata": {
  "kernelspec": {
   "display_name": "Python 3 (ipykernel)",
   "language": "python",
   "name": "python3"
  },
  "language_info": {
   "codemirror_mode": {
    "name": "ipython",
    "version": 3
   },
   "file_extension": ".py",
   "mimetype": "text/x-python",
   "name": "python",
   "nbconvert_exporter": "python",
   "pygments_lexer": "ipython3",
   "version": "3.13.3"
  }
 },
 "nbformat": 4,
 "nbformat_minor": 5
}
