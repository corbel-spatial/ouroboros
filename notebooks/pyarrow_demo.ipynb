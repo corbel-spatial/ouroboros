{
 "cells": [
  {
   "metadata": {
    "ExecuteTime": {
     "end_time": "2025-07-18T18:25:52.898687Z",
     "start_time": "2025-07-18T18:25:52.477079Z"
    }
   },
   "cell_type": "code",
   "source": [
    "import ouroboros as ob\n",
    "import pyarrow.compute as pc"
   ],
   "id": "d0eb3a0e5e0a12bb",
   "outputs": [],
   "execution_count": 1
  },
  {
   "metadata": {
    "ExecuteTime": {
     "end_time": "2025-07-18T18:26:07.006500Z",
     "start_time": "2025-07-18T18:25:53.012009Z"
    }
   },
   "cell_type": "code",
   "source": [
    "# Sample dataset of US National Highway System\n",
    "# https://hepgis-usdot.hub.arcgis.com/datasets/dce9f09392eb474c8ad8e6a78416279b_0\n",
    "\n",
    "gdb = ob.GeoDatabase(\"NHS.gdb\")\n",
    "gdb.feature_classes"
   ],
   "id": "e28154137bdf7d42",
   "outputs": [
    {
     "data": {
      "text/plain": [
       "['National_Highway_System__NHS_']"
      ]
     },
     "execution_count": 2,
     "metadata": {},
     "output_type": "execute_result"
    }
   ],
   "execution_count": 2
  },
  {
   "metadata": {
    "ExecuteTime": {
     "end_time": "2025-07-18T18:26:07.026884Z",
     "start_time": "2025-07-18T18:26:07.023082Z"
    }
   },
   "cell_type": "code",
   "source": [
    "fc = gdb['National_Highway_System__NHS_']\n",
    "len(fc)"
   ],
   "id": "7ec89a62104fb109",
   "outputs": [
    {
     "data": {
      "text/plain": [
       "491781"
      ]
     },
     "execution_count": 3,
     "metadata": {},
     "output_type": "execute_result"
    }
   ],
   "execution_count": 3
  },
  {
   "metadata": {
    "ExecuteTime": {
     "end_time": "2025-07-18T18:26:48.004474Z",
     "start_time": "2025-07-18T18:26:46.431162Z"
    }
   },
   "cell_type": "code",
   "source": "arrow_table = fc.to_pyarrow()",
   "id": "f6da27eb099f863e",
   "outputs": [],
   "execution_count": 4
  },
  {
   "metadata": {
    "ExecuteTime": {
     "end_time": "2025-07-18T18:27:06.817007Z",
     "start_time": "2025-07-18T18:27:06.805541Z"
    }
   },
   "cell_type": "code",
   "source": [
    "# calculate the average difference between postmile distance and listed distance\n",
    "point_mileage = pc.subtract(arrow_table['ENDPOINT'], arrow_table['BEGINPOINT'])\n",
    "mileage_delta = pc.abs(pc.subtract(point_mileage, arrow_table['MILES']))\n",
    "mean_difference = pc.mean(mileage_delta).as_py()\n",
    "f\"{round(mean_difference * 10)} tenths of a mile average difference (distance between mileposts and stated mileage)\""
   ],
   "id": "3c070bdbb2060025",
   "outputs": [
    {
     "data": {
      "text/plain": [
       "'2 tenths of a mile average difference (distance between mileposts and stated mileage)'"
      ]
     },
     "execution_count": 5,
     "metadata": {},
     "output_type": "execute_result"
    }
   ],
   "execution_count": 5
  }
 ],
 "metadata": {
  "kernelspec": {
   "display_name": "Python 3",
   "language": "python",
   "name": "python3"
  },
  "language_info": {
   "codemirror_mode": {
    "name": "ipython",
    "version": 2
   },
   "file_extension": ".py",
   "mimetype": "text/x-python",
   "name": "python",
   "nbconvert_exporter": "python",
   "pygments_lexer": "ipython2",
   "version": "2.7.6"
  }
 },
 "nbformat": 4,
 "nbformat_minor": 5
}
